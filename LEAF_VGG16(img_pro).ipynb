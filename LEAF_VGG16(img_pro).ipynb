{
  "nbformat": 4,
  "nbformat_minor": 0,
  "metadata": {
    "colab": {
      "name": "LEAF_VGG16(img_pro).ipynb",
      "provenance": [],
      "collapsed_sections": [],
      "include_colab_link": true
    },
    "kernelspec": {
      "name": "python3",
      "display_name": "Python 3"
    },
    "language_info": {
      "name": "python"
    },
    "accelerator": "GPU"
  },
  "cells": [
    {
      "cell_type": "markdown",
      "metadata": {
        "id": "view-in-github",
        "colab_type": "text"
      },
      "source": [
        "<a href=\"https://colab.research.google.com/github/shamim237/Vegetable-Leaf-Classification/blob/main/LEAF_VGG16(img_pro).ipynb\" target=\"_parent\"><img src=\"https://colab.research.google.com/assets/colab-badge.svg\" alt=\"Open In Colab\"/></a>"
      ]
    },
    {
      "cell_type": "code",
      "metadata": {
        "colab": {
          "base_uri": "https://localhost:8080/"
        },
        "id": "434ZqfQJGP3c",
        "outputId": "465ec488-4a48-4bb2-cff5-11dfa6366eb0"
      },
      "source": [
        "from google.colab import drive\n",
        "drive.mount('/content/drive')"
      ],
      "execution_count": null,
      "outputs": [
        {
          "output_type": "stream",
          "text": [
            "Drive already mounted at /content/drive; to attempt to forcibly remount, call drive.mount(\"/content/drive\", force_remount=True).\n"
          ],
          "name": "stdout"
        }
      ]
    },
    {
      "cell_type": "code",
      "metadata": {
        "id": "VTZVyTL1HDEh"
      },
      "source": [
        "import random\n",
        "import os\n",
        "import cv2\n",
        "from PIL import Image\n",
        "import glob\n",
        "import matplotlib.pyplot as plt\n",
        "import matplotlib.image as mpimg\n",
        "import numpy as np\n",
        "import tensorflow as tf\n",
        "from keras.models import Model, load_model, Sequential\n",
        "from tensorflow.keras.preprocessing import image\n",
        "from keras.layers import Input, Add, Dense,GlobalAvgPool2D, Concatenate, AvgPool2D, Dropout, ReLU, Activation, MaxPool2D, ZeroPadding2D, BatchNormalization, Flatten, Conv2D, GlobalAveragePooling2D, AveragePooling2D, MaxPooling2D, GlobalMaxPooling2D\n",
        "from tensorflow.keras.optimizers import RMSprop, Adam, SGD"
      ],
      "execution_count": null,
      "outputs": []
    },
    {
      "cell_type": "code",
      "metadata": {
        "id": "PIiJWmoCHDIF"
      },
      "source": [
        "size = 128\n",
        "num_classes= 4"
      ],
      "execution_count": null,
      "outputs": []
    },
    {
      "cell_type": "code",
      "metadata": {
        "id": "cFeHKFLkHDLT"
      },
      "source": [
        "# Leave it as comment, you don't have to run this\n",
        "\n",
        "# train_images = []\n",
        "# train_labels = [] \n",
        "\n",
        "# for directory_path in glob.glob(\"/content/drive/MyDrive/LEAF_DATASET(EQUAL)/LEAF_DATASET(EQUAL)/train/*\"):\n",
        "#     label = directory_path.split(\"/\")[-1]\n",
        "#     print(label)\n",
        "#     for img_path in glob.glob(os.path.join(directory_path, \"*.jpg\")):\n",
        "#         print(img_path)\n",
        "#         img = cv2.imread(img_path, cv2.IMREAD_COLOR)       \n",
        "#         img = cv2.resize(img, (size, size ))\n",
        "#         img = cv2.cvtColor(img, cv2.COLOR_RGB2GRAY)\n",
        "#         img = cv2.Canny(img, 10, 200)\n",
        "#         train_images.append(img)\n",
        "#         train_labels.append(label)\n",
        "\n",
        "# #Convert lists to arrays        \n",
        "# train_images = np.array(train_images)\n",
        "# train_labels = np.array(train_labels)"
      ],
      "execution_count": null,
      "outputs": []
    },
    {
      "cell_type": "code",
      "metadata": {
        "id": "c3-LbtkQHDOf"
      },
      "source": [
        "# Leave it as comment, you don't have to run this\n",
        "\n",
        "# test_images = []\n",
        "# test_labels = [] \n",
        "\n",
        "# for directory_path in glob.glob(\"/content/drive/MyDrive/LEAF_DATASET(EQUAL)/LEAF_DATASET(EQUAL)/validation/*\"):\n",
        "#     im_label = directory_path.split(\"/\")[-1]\n",
        "#     for img_path in glob.glob(os.path.join(directory_path, \"*.jpg\")):\n",
        "#         img = cv2.imread(img_path, cv2.IMREAD_COLOR)\n",
        "#         img = cv2.resize(img, (size, size))\n",
        "#         img = cv2.cvtColor(img, cv2.COLOR_RGB2GRAY)\n",
        "#         img = cv2.Canny(img, 10, 200)\n",
        "#         #train_images.append(img)\n",
        "#         test_images.append(img)\n",
        "#         test_labels.append(im_label)\n",
        "#         print(img_path)\n",
        "\n",
        "# #Convert lists to arrays                \n",
        "# test_images = np.array(test_images)\n",
        "# test_labels = np.array(test_labels)"
      ],
      "execution_count": null,
      "outputs": []
    },
    {
      "cell_type": "code",
      "metadata": {
        "id": "mDGZ1pW0HDR4"
      },
      "source": [
        "# import pickle\n",
        "\n",
        "# pick_in = open('/content/drive/MyDrive/LEAF_DATASET(EQUAL)/leaf_data_train(canny).pickle', 'wb')\n",
        "# pickle.dump(train_images, pick_in)\n",
        "# pick_in.close()\n",
        "\n",
        "# pick_in = open('/content/drive/MyDrive/LEAF_DATASET(EQUAL)/leaf_train_labels(canny).pickle', 'wb')\n",
        "# pickle.dump(train_labels, pick_in)\n",
        "# pick_in.close()\n",
        "\n",
        "# pick_in = open('/content/drive/MyDrive/LEAF_DATASET(EQUAL)/leaf_data_test(canny).pickle', 'wb')\n",
        "# pickle.dump(test_images, pick_in)\n",
        "# pick_in.close()\n",
        "\n",
        "# pick_in = open('/content/drive/MyDrive/LEAF_DATASET(EQUAL)/leaf_test_labels(canny).pickle', 'wb')\n",
        "# pickle.dump(test_labels, pick_in)\n",
        "# pick_in.close()\n"
      ],
      "execution_count": null,
      "outputs": []
    },
    {
      "cell_type": "code",
      "metadata": {
        "id": "Qol-WmueHDUT"
      },
      "source": [
        "import pickle\n",
        "\n",
        "pick_in = open('/content/drive/MyDrive/LEAF_DATASET(EQUAL)/leaf_data_train(canny).pickle', 'rb')\n",
        "train_images = pickle.load(pick_in)\n",
        "pick_in.close()\n",
        "\n",
        "pick_in = open('/content/drive/MyDrive/LEAF_DATASET(EQUAL)/leaf_train_labels(canny).pickle', 'rb')\n",
        "train_labels = pickle.load(pick_in)\n",
        "pick_in.close()\n",
        "\n",
        "pick_in = open('/content/drive/MyDrive/LEAF_DATASET(EQUAL)/leaf_data_test(canny).pickle', 'rb')\n",
        "test_images = pickle.load(pick_in)\n",
        "pick_in.close()\n",
        "\n",
        "pick_in = open('/content/drive/MyDrive/LEAF_DATASET(EQUAL)/leaf_test_labels(canny).pickle', 'rb')\n",
        "test_labels = pickle.load(pick_in)\n",
        "pick_in.close()"
      ],
      "execution_count": null,
      "outputs": []
    },
    {
      "cell_type": "code",
      "metadata": {
        "id": "UcBVKq_FHDZN"
      },
      "source": [
        "from sklearn import preprocessing\n",
        "le = preprocessing.LabelEncoder()\n",
        "le.fit(test_labels)\n",
        "test_labels_encoded = le.transform(test_labels)\n",
        "le.fit(train_labels)\n",
        "train_labels_encoded = le.transform(train_labels)"
      ],
      "execution_count": null,
      "outputs": []
    },
    {
      "cell_type": "code",
      "metadata": {
        "id": "TOjv8AhVHDb3"
      },
      "source": [
        "x_train, y_train, x_test, y_test = train_images, train_labels_encoded, test_images, test_labels_encoded"
      ],
      "execution_count": null,
      "outputs": []
    },
    {
      "cell_type": "code",
      "metadata": {
        "id": "HEYsfu6_HDeV"
      },
      "source": [
        "x_train, x_test = x_train / 255.0, x_test / 255.0"
      ],
      "execution_count": null,
      "outputs": []
    },
    {
      "cell_type": "code",
      "metadata": {
        "id": "-3VjfEnjHDgh"
      },
      "source": [
        "from keras.utils import to_categorical\n",
        "y_train = to_categorical(y_train, num_classes)\n",
        "y_test = to_categorical(y_test, num_classes)"
      ],
      "execution_count": null,
      "outputs": []
    },
    {
      "cell_type": "code",
      "metadata": {
        "colab": {
          "base_uri": "https://localhost:8080/"
        },
        "id": "RtLKxxJOHDjQ",
        "outputId": "4d07a77f-d343-483d-e5d3-d0b7f8108e9d"
      },
      "source": [
        "x_train.shape, x_test.shape, y_train.shape, y_test.shape"
      ],
      "execution_count": null,
      "outputs": [
        {
          "output_type": "execute_result",
          "data": {
            "text/plain": [
              "((4120, 128, 128), (920, 128, 128), (4120, 4), (920, 4))"
            ]
          },
          "metadata": {
            "tags": []
          },
          "execution_count": 68
        }
      ]
    },
    {
      "cell_type": "code",
      "metadata": {
        "colab": {
          "base_uri": "https://localhost:8080/",
          "height": 295
        },
        "id": "aMfUA0HHHDmm",
        "outputId": "119dc0c4-d6d8-46f0-86dd-b29ec831527a"
      },
      "source": [
        "plt.imshow(x_train[2300], cmap= 'binary')"
      ],
      "execution_count": null,
      "outputs": [
        {
          "output_type": "execute_result",
          "data": {
            "text/plain": [
              "<matplotlib.image.AxesImage at 0x7fb28452e810>"
            ]
          },
          "metadata": {
            "tags": []
          },
          "execution_count": 69
        },
        {
          "output_type": "display_data",
          "data": {
            "image/png": "[encoded data removed]",
            "text/plain": [
              "<Figure size 432x288 with 1 Axes>"
            ]
          },
          "metadata": {
            "tags": []
          }
        }
      ]
    },
    {
      "cell_type": "code",
      "metadata": {
        "id": "hR5-Hj8abGNY",
        "colab": {
          "base_uri": "https://localhost:8080/"
        },
        "outputId": "e7536726-c521-4136-d93c-f813ed540d26"
      },
      "source": [
        "x_train = np.repeat(x_train[..., np.newaxis], 3, -1) # reshape the image shape to rgb channels\n",
        "print(x_train.shape)"
      ],
      "execution_count": null,
      "outputs": [
        {
          "output_type": "stream",
          "text": [
            "(4120, 128, 128, 3)\n"
          ],
          "name": "stdout"
        }
      ]
    },
    {
      "cell_type": "code",
      "metadata": {
        "colab": {
          "base_uri": "https://localhost:8080/"
        },
        "id": "MFQ2goAvS2Y5",
        "outputId": "f6bba15f-925e-4c61-f58d-c88e0939d94d"
      },
      "source": [
        "x_test = np.repeat(x_test[..., np.newaxis], 3 , -1) # reshape the image shape to rgb channels\n",
        "print(x_test.shape) "
      ],
      "execution_count": null,
      "outputs": [
        {
          "output_type": "stream",
          "text": [
            "(920, 128, 128, 3)\n"
          ],
          "name": "stdout"
        }
      ]
    },
    {
      "cell_type": "code",
      "metadata": {
        "id": "FfIwLgh5GSHO",
        "colab": {
          "base_uri": "https://localhost:8080/"
        },
        "outputId": "574a2c75-e8cf-4fd5-c61a-56411316ed34"
      },
      "source": [
        "x_train.shape"
      ],
      "execution_count": null,
      "outputs": [
        {
          "output_type": "execute_result",
          "data": {
            "text/plain": [
              "(4120, 128, 128, 3)"
            ]
          },
          "metadata": {
            "tags": []
          },
          "execution_count": 72
        }
      ]
    },
    {
      "cell_type": "code",
      "metadata": {
        "id": "N3O4RINfP2Xw"
      },
      "source": [
        "# load the weights of pre-trained VGG-16 model\n",
        "\n",
        "model_d= tf.keras.applications.VGG16(weights=\"imagenet\",\n",
        "                                     include_top=False,\n",
        "                                     input_tensor=Input\n",
        "                                     (shape=(size, size, 3)))"
      ],
      "execution_count": null,
      "outputs": []
    },
    {
      "cell_type": "code",
      "metadata": {
        "id": "DfSWSCwKHDr7"
      },
      "source": [
        "x= model_d.layers[-3].output\n",
        "x= GlobalAveragePooling2D()(x)\n",
        "x= Dropout(0.3)(x)\n",
        "x= Dense(512,activation='relu')(x) \n",
        "x= BatchNormalization()(x)\n",
        "x= Dense(64,activation='relu')(x)\n",
        "\n",
        "predictions= Dense(4, activation = 'softmax')(x)\n",
        "model= Model(inputs= model_d.input, outputs= predictions)"
      ],
      "execution_count": null,
      "outputs": []
    },
    {
      "cell_type": "code",
      "metadata": {
        "id": "IBpgDOGSQO-1"
      },
      "source": [
        "for layer in model.layers[:-8]:\n",
        "    layer.trainable = False"
      ],
      "execution_count": null,
      "outputs": []
    },
    {
      "cell_type": "code",
      "metadata": {
        "colab": {
          "base_uri": "https://localhost:8080/"
        },
        "id": "kzMSE77ZHDzn",
        "outputId": "70b565cb-649e-42f9-d3a0-85124ef47433"
      },
      "source": [
        "model.summary()"
      ],
      "execution_count": null,
      "outputs": [
        {
          "output_type": "stream",
          "text": [
            "Model: \"model_1\"\n",
            "_________________________________________________________________\n",
            "Layer (type)                 Output Shape              Param #   \n",
            "=================================================================\n",
            "input_4 (InputLayer)         [(None, 128, 128, 3)]     0         \n",
            "_________________________________________________________________\n",
            "block1_conv1 (Conv2D)        (None, 128, 128, 64)      1792      \n",
            "_________________________________________________________________\n",
            "block1_conv2 (Conv2D)        (None, 128, 128, 64)      36928     \n",
            "_________________________________________________________________\n",
            "block1_pool (MaxPooling2D)   (None, 64, 64, 64)        0         \n",
            "_________________________________________________________________\n",
            "block2_conv1 (Conv2D)        (None, 64, 64, 128)       73856     \n",
            "_________________________________________________________________\n",
            "block2_conv2 (Conv2D)        (None, 64, 64, 128)       147584    \n",
            "_________________________________________________________________\n",
            "block2_pool (MaxPooling2D)   (None, 32, 32, 128)       0         \n",
            "_________________________________________________________________\n",
            "block3_conv1 (Conv2D)        (None, 32, 32, 256)       295168    \n",
            "_________________________________________________________________\n",
            "block3_conv2 (Conv2D)        (None, 32, 32, 256)       590080    \n",
            "_________________________________________________________________\n",
            "block3_conv3 (Conv2D)        (None, 32, 32, 256)       590080    \n",
            "_________________________________________________________________\n",
            "block3_pool (MaxPooling2D)   (None, 16, 16, 256)       0         \n",
            "_________________________________________________________________\n",
            "block4_conv1 (Conv2D)        (None, 16, 16, 512)       1180160   \n",
            "_________________________________________________________________\n",
            "block4_conv2 (Conv2D)        (None, 16, 16, 512)       2359808   \n",
            "_________________________________________________________________\n",
            "block4_conv3 (Conv2D)        (None, 16, 16, 512)       2359808   \n",
            "_________________________________________________________________\n",
            "block4_pool (MaxPooling2D)   (None, 8, 8, 512)         0         \n",
            "_________________________________________________________________\n",
            "block5_conv1 (Conv2D)        (None, 8, 8, 512)         2359808   \n",
            "_________________________________________________________________\n",
            "block5_conv2 (Conv2D)        (None, 8, 8, 512)         2359808   \n",
            "_________________________________________________________________\n",
            "global_average_pooling2d_1 ( (None, 512)               0         \n",
            "_________________________________________________________________\n",
            "dropout_1 (Dropout)          (None, 512)               0         \n",
            "_________________________________________________________________\n",
            "dense_3 (Dense)              (None, 512)               262656    \n",
            "_________________________________________________________________\n",
            "batch_normalization_1 (Batch (None, 512)               2048      \n",
            "_________________________________________________________________\n",
            "dense_4 (Dense)              (None, 64)                32832     \n",
            "_________________________________________________________________\n",
            "dense_5 (Dense)              (None, 4)                 260       \n",
            "=================================================================\n",
            "Total params: 12,652,676\n",
            "Trainable params: 5,016,388\n",
            "Non-trainable params: 7,636,288\n",
            "_________________________________________________________________\n"
          ],
          "name": "stdout"
        }
      ]
    },
    {
      "cell_type": "code",
      "metadata": {
        "colab": {
          "base_uri": "https://localhost:8080/"
        },
        "id": "UdB_1p36F37C",
        "outputId": "413e4f57-4639-4f3d-ea4d-03f1930ee629"
      },
      "source": [
        "pip install tensorflow-addons # uncomment and run this, if you got an error in the next cell"
      ],
      "execution_count": null,
      "outputs": [
        {
          "output_type": "stream",
          "text": [
            "Requirement already satisfied: tensorflow-addons in /usr/local/lib/python3.7/dist-packages (0.12.1)\n",
            "Requirement already satisfied: typeguard>=2.7 in /usr/local/lib/python3.7/dist-packages (from tensorflow-addons) (2.7.1)\n"
          ],
          "name": "stdout"
        }
      ]
    },
    {
      "cell_type": "code",
      "metadata": {
        "id": "JhSQI4TiHD2m"
      },
      "source": [
        "import tensorflow_addons as tfa\n",
        "model.compile(optimizer= Adam(lr= 0.0001), \n",
        "              loss='categorical_crossentropy', metrics=['accuracy',\n",
        "              tf.keras.metrics.Precision(thresholds=None, top_k=None, class_id=None, name=None, dtype=None),\n",
        "              tf.keras.metrics.Recall(thresholds=None, top_k=None, class_id=None, name=None, dtype=None),\n",
        "              tfa.metrics.F1Score(num_classes=4),\n",
        "              tfa.metrics.CohenKappa(num_classes=4)])\n"
      ],
      "execution_count": null,
      "outputs": []
    },
    {
      "cell_type": "code",
      "metadata": {
        "colab": {
          "base_uri": "https://localhost:8080/"
        },
        "id": "6klHaovRZRjK",
        "outputId": "86635f4d-52a2-4348-e76b-21f6748f635f"
      },
      "source": [
        "history= model.fit(x_train, y_train, batch_size = 64, \n",
        "                   validation_data= (x_test, y_test), \n",
        "                   epochs = 20)"
      ],
      "execution_count": null,
      "outputs": [
        {
          "output_type": "stream",
          "text": [
            "Epoch 1/20\n",
            "65/65 [==============================] - 16s 213ms/step - loss: 0.8511 - accuracy: 0.6643 - precision_1: 0.7147 - recall_1: 0.5942 - f1_score: 0.6496 - cohen_kappa: 0.5514 - val_loss: 0.4328 - val_accuracy: 0.9272 - val_precision_1: 0.9862 - val_recall_1: 0.7793 - val_f1_score: 0.9267 - val_cohen_kappa: 0.9029\n",
            "Epoch 2/20\n",
            "65/65 [==============================] - 13s 200ms/step - loss: 0.1431 - accuracy: 0.9498 - precision_1: 0.9559 - recall_1: 0.9417 - f1_score: 0.9496 - cohen_kappa: 0.9330 - val_loss: 0.1910 - val_accuracy: 0.9674 - val_precision_1: 0.9765 - val_recall_1: 0.9489 - val_f1_score: 0.9675 - val_cohen_kappa: 0.9565\n",
            "Epoch 3/20\n",
            "65/65 [==============================] - 13s 200ms/step - loss: 0.0829 - accuracy: 0.9748 - precision_1: 0.9776 - recall_1: 0.9716 - f1_score: 0.9750 - cohen_kappa: 0.9663 - val_loss: 0.1889 - val_accuracy: 0.9587 - val_precision_1: 0.9686 - val_recall_1: 0.9380 - val_f1_score: 0.9578 - val_cohen_kappa: 0.9449\n",
            "Epoch 4/20\n",
            "65/65 [==============================] - 13s 203ms/step - loss: 0.0421 - accuracy: 0.9890 - precision_1: 0.9894 - recall_1: 0.9884 - f1_score: 0.9890 - cohen_kappa: 0.9853 - val_loss: 0.0778 - val_accuracy: 0.9859 - val_precision_1: 0.9879 - val_recall_1: 0.9783 - val_f1_score: 0.9858 - val_cohen_kappa: 0.9812\n",
            "Epoch 5/20\n",
            "65/65 [==============================] - 13s 204ms/step - loss: 0.0268 - accuracy: 0.9918 - precision_1: 0.9930 - recall_1: 0.9911 - f1_score: 0.9917 - cohen_kappa: 0.9890 - val_loss: 0.0522 - val_accuracy: 0.9848 - val_precision_1: 0.9901 - val_recall_1: 0.9826 - val_f1_score: 0.9847 - val_cohen_kappa: 0.9797\n",
            "Epoch 6/20\n",
            "65/65 [==============================] - 13s 202ms/step - loss: 0.0174 - accuracy: 0.9960 - precision_1: 0.9960 - recall_1: 0.9949 - f1_score: 0.9960 - cohen_kappa: 0.9947 - val_loss: 0.0264 - val_accuracy: 0.9935 - val_precision_1: 0.9946 - val_recall_1: 0.9924 - val_f1_score: 0.9935 - val_cohen_kappa: 0.9913\n",
            "Epoch 7/20\n",
            "65/65 [==============================] - 13s 201ms/step - loss: 0.0095 - accuracy: 0.9987 - precision_1: 0.9987 - recall_1: 0.9987 - f1_score: 0.9987 - cohen_kappa: 0.9982 - val_loss: 0.0154 - val_accuracy: 0.9967 - val_precision_1: 0.9967 - val_recall_1: 0.9967 - val_f1_score: 0.9967 - val_cohen_kappa: 0.9957\n",
            "Epoch 8/20\n",
            "65/65 [==============================] - 13s 205ms/step - loss: 0.0091 - accuracy: 0.9991 - precision_1: 0.9992 - recall_1: 0.9988 - f1_score: 0.9991 - cohen_kappa: 0.9988 - val_loss: 0.0164 - val_accuracy: 0.9924 - val_precision_1: 0.9924 - val_recall_1: 0.9913 - val_f1_score: 0.9924 - val_cohen_kappa: 0.9899\n",
            "Epoch 9/20\n",
            "65/65 [==============================] - 13s 204ms/step - loss: 0.0055 - accuracy: 0.9989 - precision_1: 0.9989 - recall_1: 0.9989 - f1_score: 0.9989 - cohen_kappa: 0.9985 - val_loss: 0.0079 - val_accuracy: 0.9967 - val_precision_1: 0.9978 - val_recall_1: 0.9957 - val_f1_score: 0.9967 - val_cohen_kappa: 0.9957\n",
            "Epoch 10/20\n",
            "65/65 [==============================] - 13s 202ms/step - loss: 0.0032 - accuracy: 0.9992 - precision_1: 0.9992 - recall_1: 0.9992 - f1_score: 0.9992 - cohen_kappa: 0.9989 - val_loss: 0.0254 - val_accuracy: 0.9935 - val_precision_1: 0.9935 - val_recall_1: 0.9924 - val_f1_score: 0.9935 - val_cohen_kappa: 0.9913\n",
            "Epoch 11/20\n",
            "65/65 [==============================] - 13s 202ms/step - loss: 0.0028 - accuracy: 0.9999 - precision_1: 0.9999 - recall_1: 0.9999 - f1_score: 0.9999 - cohen_kappa: 0.9998 - val_loss: 0.0230 - val_accuracy: 0.9924 - val_precision_1: 0.9924 - val_recall_1: 0.9913 - val_f1_score: 0.9924 - val_cohen_kappa: 0.9899\n",
            "Epoch 12/20\n",
            "65/65 [==============================] - 13s 204ms/step - loss: 0.0014 - accuracy: 1.0000 - precision_1: 1.0000 - recall_1: 1.0000 - f1_score: 1.0000 - cohen_kappa: 1.0000 - val_loss: 0.0157 - val_accuracy: 0.9924 - val_precision_1: 0.9924 - val_recall_1: 0.9924 - val_f1_score: 0.9924 - val_cohen_kappa: 0.9899\n",
            "Epoch 13/20\n",
            "65/65 [==============================] - 13s 204ms/step - loss: 0.0013 - accuracy: 1.0000 - precision_1: 1.0000 - recall_1: 1.0000 - f1_score: 1.0000 - cohen_kappa: 1.0000 - val_loss: 0.0039 - val_accuracy: 1.0000 - val_precision_1: 1.0000 - val_recall_1: 1.0000 - val_f1_score: 1.0000 - val_cohen_kappa: 1.0000\n",
            "Epoch 14/20\n",
            "65/65 [==============================] - 13s 202ms/step - loss: 0.0010 - accuracy: 1.0000 - precision_1: 1.0000 - recall_1: 1.0000 - f1_score: 1.0000 - cohen_kappa: 1.0000 - val_loss: 0.0268 - val_accuracy: 0.9913 - val_precision_1: 0.9913 - val_recall_1: 0.9913 - val_f1_score: 0.9913 - val_cohen_kappa: 0.9884\n",
            "Epoch 15/20\n",
            "65/65 [==============================] - 13s 201ms/step - loss: 0.0011 - accuracy: 1.0000 - precision_1: 1.0000 - recall_1: 1.0000 - f1_score: 1.0000 - cohen_kappa: 1.0000 - val_loss: 0.0049 - val_accuracy: 0.9978 - val_precision_1: 0.9978 - val_recall_1: 0.9978 - val_f1_score: 0.9978 - val_cohen_kappa: 0.9971\n",
            "Epoch 16/20\n",
            "65/65 [==============================] - 13s 205ms/step - loss: 6.6588e-04 - accuracy: 1.0000 - precision_1: 1.0000 - recall_1: 1.0000 - f1_score: 1.0000 - cohen_kappa: 1.0000 - val_loss: 0.0157 - val_accuracy: 0.9924 - val_precision_1: 0.9935 - val_recall_1: 0.9924 - val_f1_score: 0.9924 - val_cohen_kappa: 0.9899\n",
            "Epoch 17/20\n",
            "65/65 [==============================] - 13s 204ms/step - loss: 5.8586e-04 - accuracy: 1.0000 - precision_1: 1.0000 - recall_1: 1.0000 - f1_score: 1.0000 - cohen_kappa: 1.0000 - val_loss: 0.0530 - val_accuracy: 0.9870 - val_precision_1: 0.9869 - val_recall_1: 0.9848 - val_f1_score: 0.9869 - val_cohen_kappa: 0.9826\n",
            "Epoch 18/20\n",
            "65/65 [==============================] - 13s 202ms/step - loss: 0.0062 - accuracy: 0.9989 - precision_1: 0.9989 - recall_1: 0.9989 - f1_score: 0.9989 - cohen_kappa: 0.9985 - val_loss: 0.0322 - val_accuracy: 0.9902 - val_precision_1: 0.9902 - val_recall_1: 0.9870 - val_f1_score: 0.9902 - val_cohen_kappa: 0.9870\n",
            "Epoch 19/20\n",
            "65/65 [==============================] - 13s 201ms/step - loss: 0.0486 - accuracy: 0.9853 - precision_1: 0.9867 - recall_1: 0.9845 - f1_score: 0.9855 - cohen_kappa: 0.9803 - val_loss: 0.1110 - val_accuracy: 0.9652 - val_precision_1: 0.9694 - val_recall_1: 0.9641 - val_f1_score: 0.9646 - val_cohen_kappa: 0.9536\n",
            "Epoch 20/20\n",
            "65/65 [==============================] - 13s 205ms/step - loss: 0.0144 - accuracy: 0.9950 - precision_1: 0.9950 - recall_1: 0.9947 - f1_score: 0.9949 - cohen_kappa: 0.9933 - val_loss: 0.0267 - val_accuracy: 0.9935 - val_precision_1: 0.9946 - val_recall_1: 0.9935 - val_f1_score: 0.9935 - val_cohen_kappa: 0.9913\n"
          ],
          "name": "stdout"
        }
      ]
    },
    {
      "cell_type": "code",
      "metadata": {
        "id": "DNI1yfWGcvng",
        "colab": {
          "base_uri": "https://localhost:8080/",
          "height": 388
        },
        "outputId": "914f64fb-06b9-4521-baef-2cd4186e06a3"
      },
      "source": [
        "#matplotlib inline\n",
        "\n",
        "import matplotlib.image  as mpimg\n",
        "import matplotlib.pyplot as plt\n",
        "\n",
        "#-----------------------------------------------------------\n",
        "# Retrieve a list of list results on training and test data\n",
        "# sets for each training epoch\n",
        "#-----------------------------------------------------------\n",
        "# plot loss and accuracy\n",
        "plt.subplot(211)\n",
        "plt.title(\"Accuracy\")\n",
        "plt.plot(history.history[\"accuracy\"], color=\"g\", label=\"Train\")\n",
        "plt.plot(history.history[\"val_accuracy\"], color=\"b\", label=\"Validation\")\n",
        "plt.legend(loc=\"best\")\n",
        "\n",
        "plt.subplot(212)\n",
        "plt.title(\"Loss\")\n",
        "plt.plot(history.history[\"loss\"], color=\"g\", label=\"Train\")\n",
        "plt.plot(history.history[\"val_loss\"], color=\"b\", label=\"Validation\")\n",
        "plt.legend(loc=\"best\")\n",
        "\n",
        "plt.tight_layout()\n",
        "plt.show()\n",
        "\n",
        "print()\n",
        "train_accuracy = history.history[\"accuracy\"]\n",
        "valid_accuracy = history.history[\"val_accuracy\"]\n",
        "\n",
        "train_err = history.history[\"loss\"]\n",
        "valid_err = history.history[\"val_loss\"]\n",
        "\n",
        "\n",
        "print(\"train_accuracy : \", train_accuracy)\n",
        "print(\"valid_accuracy : \", valid_accuracy)\n",
        "print(\"train_err : \", train_err)\n",
        "print(\"valid_err : \", valid_err)"
      ],
      "execution_count": null,
      "outputs": [
        {
          "output_type": "display_data",
          "data": {
            "image/png": "[encoded data removed]",
            "text/plain": [
              "<Figure size 432x288 with 2 Axes>"
            ]
          },
          "metadata": {
            "tags": []
          }
        },
        {
          "output_type": "stream",
          "text": [
            "\n",
            "train_accuracy :  [0.8097087144851685, 0.9563106894493103, 0.977669894695282, 0.9902912378311157, 0.9934465885162354, 0.9963592290878296, 0.9983009696006775, 0.9987863898277283, 0.9990290999412537, 0.9992718696594238, 0.9997572898864746, 1.0, 1.0, 1.0, 1.0, 1.0, 1.0, 0.9975728392601013, 0.9881067872047424, 0.9949029088020325]\n",
            "valid_accuracy :  [0.927173912525177, 0.967391312122345, 0.958695650100708, 0.9858695864677429, 0.9847826361656189, 0.9934782385826111, 0.9967391490936279, 0.9923912882804871, 0.9967391490936279, 0.9934782385826111, 0.9923912882804871, 0.9923912882804871, 1.0, 0.991304337978363, 0.997826099395752, 0.9923912882804871, 0.9869565367698669, 0.990217387676239, 0.9652174115180969, 0.9934782385826111]\n",
            "train_err :  [0.5021146535873413, 0.13274067640304565, 0.07680974155664444, 0.03870353475213051, 0.026385597884655, 0.014635627157986164, 0.010013033635914326, 0.008170070126652718, 0.004879064857959747, 0.0036425914149731398, 0.002335007069632411, 0.0013473345898091793, 0.001298644463531673, 0.0009433669620193541, 0.0009570878464728594, 0.0006153779104351997, 0.0010050268610939384, 0.011028999462723732, 0.03796786069869995, 0.013922878541052341]\n",
            "valid_err :  [0.43279534578323364, 0.19104783236980438, 0.18888860940933228, 0.07779433578252792, 0.052186645567417145, 0.026439357548952103, 0.015417375601828098, 0.01638754829764366, 0.00789701659232378, 0.025424934923648834, 0.02304793894290924, 0.015661494806408882, 0.003854091977700591, 0.02675086259841919, 0.0048991721123456955, 0.015683643519878387, 0.05302167311310768, 0.0321812741458416, 0.11097701638936996, 0.02665463089942932]\n"
          ],
          "name": "stdout"
        }
      ]
    },
    {
      "cell_type": "code",
      "metadata": {
        "id": "9vlqzkz6HD55",
        "colab": {
          "base_uri": "https://localhost:8080/"
        },
        "outputId": "18d16590-ff72-48d2-8335-49c439976612"
      },
      "source": [
        "(loss, \n",
        "accuracy, \n",
        "f1_score, precision, recall,cohen_kappa) = model.evaluate(x_test, y_test, verbose=1)\n",
        "print('Accuracy = ', (accuracy * 100.0))"
      ],
      "execution_count": null,
      "outputs": [
        {
          "output_type": "stream",
          "text": [
            "29/29 [==============================] - 2s 84ms/step - loss: 0.0267 - accuracy: 0.9935 - precision_1: 0.9946 - recall_1: 0.9935 - f1_score: 0.9935 - cohen_kappa: 0.9913\n",
            "Accuracy =  99.34782385826111\n"
          ],
          "name": "stdout"
        }
      ]
    },
    {
      "cell_type": "code",
      "metadata": {
        "id": "-gos2NTjpg_r"
      },
      "source": [
        "y_true = np.argmax(y_test, axis=-1)"
      ],
      "execution_count": null,
      "outputs": []
    },
    {
      "cell_type": "code",
      "metadata": {
        "id": "nI_yHEI0HBA_"
      },
      "source": [
        "y_pred = model.predict(x_test)\n",
        "y_pred = np.argmax(y_pred, axis=-1)"
      ],
      "execution_count": null,
      "outputs": []
    },
    {
      "cell_type": "code",
      "metadata": {
        "colab": {
          "base_uri": "https://localhost:8080/",
          "height": 604
        },
        "id": "-FK3k5orHFJW",
        "outputId": "b18b9a7b-da81-42cc-a3f2-283653600164"
      },
      "source": [
        "from sklearn.metrics import confusion_matrix\n",
        "import pandas as pd\n",
        "import seaborn as sn\n",
        "import matplotlib.pyplot as plt\n",
        "%matplotlib inline\n",
        "import numpy as np\n",
        "\n",
        "\n",
        "data = confusion_matrix(y_true, y_pred)\n",
        "df_cm = pd.DataFrame(data, columns=np.unique(y_true), index = np.unique(y_true))\n",
        "df_cm.index.name = 'Actual'\n",
        "df_cm.columns.name = 'Predicted'\n",
        "plt.figure(figsize = (10,9))\n",
        "plt.title('Confusion Matrix: VGG19')\n",
        "sn.set(font_scale=1.4)#for label size\n",
        "sn.heatmap(df_cm, cmap=\"GnBu\", annot=True, fmt= 'g', annot_kws={\"size\": 12})# font size"
      ],
      "execution_count": null,
      "outputs": [
        {
          "output_type": "execute_result",
          "data": {
            "text/plain": [
              "<matplotlib.axes._subplots.AxesSubplot at 0x7fb2905a5f10>"
            ]
          },
          "metadata": {
            "tags": []
          },
          "execution_count": 84
        },
        {
          "output_type": "display_data",
          "data": {
            "image/png": "[encoded data removed]",
            "text/plain": [
              "<Figure size 720x648 with 2 Axes>"
            ]
          },
          "metadata": {
            "tags": [],
            "needs_background": "light"
          }
        }
      ]
    },
    {
      "cell_type": "code",
      "metadata": {
        "id": "HppIbpAzHFZL",
        "colab": {
          "base_uri": "https://localhost:8080/",
          "height": 295
        },
        "outputId": "77b18ec6-fa90-4fb0-f1f4-ce53650507a9"
      },
      "source": [
        "img = cv2.imread('/content/kale8.jpg')\n",
        "\n",
        "img = cv2.resize(img, (size, size ))\n",
        "img = cv2.cvtColor(img, cv2.COLOR_RGB2GRAY)\n",
        "img = cv2.Canny(img, 10, 200)\n",
        "img = cv2.cvtColor(img, cv2.COLOR_GRAY2RGB)\n",
        "plt.imshow(img)"
      ],
      "execution_count": null,
      "outputs": [
        {
          "output_type": "execute_result",
          "data": {
            "text/plain": [
              "<matplotlib.image.AxesImage at 0x7fb2823cf110>"
            ]
          },
          "metadata": {
            "tags": []
          },
          "execution_count": 96
        },
        {
          "output_type": "display_data",
          "data": {
            "image/png": "[encoded data removed]",
            "text/plain": [
              "<Figure size 432x288 with 1 Axes>"
            ]
          },
          "metadata": {
            "tags": []
          }
        }
      ]
    },
    {
      "cell_type": "code",
      "metadata": {
        "colab": {
          "base_uri": "https://localhost:8080/"
        },
        "id": "qm2uYTSTlOlH",
        "outputId": "bd228c82-9c0e-427d-9df6-01351c8c5c4c"
      },
      "source": [
        "img= img.reshape(1, 128,128,3)\n",
        "pred = model.predict(img)\n",
        "output = np.argmax(pred, axis=1)\n",
        "output  # array[0] = kale, array[1] = lettuce, array[2] = spinach and array[3] = water_spinach"
      ],
      "execution_count": null,
      "outputs": [
        {
          "output_type": "execute_result",
          "data": {
            "text/plain": [
              "array([0])"
            ]
          },
          "metadata": {
            "tags": []
          },
          "execution_count": 95
        }
      ]
    },
    {
      "cell_type": "code",
      "metadata": {
        "id": "zFQb-Ul8p7rJ",
        "colab": {
          "base_uri": "https://localhost:8080/"
        },
        "outputId": "5c88b630-7703-4875-f44e-3c460b0f5612"
      },
      "source": [
        "test_labels"
      ],
      "execution_count": null,
      "outputs": [
        {
          "output_type": "execute_result",
          "data": {
            "text/plain": [
              "array(['kale', 'kale', 'kale', 'kale', 'kale', 'kale', 'kale', 'kale',\n",
              "       'kale', 'kale', 'kale', 'kale', 'kale', 'kale', 'kale', 'kale',\n",
              "       'kale', 'kale', 'kale', 'kale', 'kale', 'kale', 'kale', 'kale',\n",
              "       'kale', 'kale', 'kale', 'kale', 'kale', 'kale', 'kale', 'kale',\n",
              "       'kale', 'kale', 'kale', 'kale', 'kale', 'kale', 'kale', 'kale',\n",
              "       'kale', 'kale', 'kale', 'kale', 'kale', 'kale', 'kale', 'kale',\n",
              "       'kale', 'kale', 'kale', 'kale', 'kale', 'kale', 'kale', 'kale',\n",
              "       'kale', 'kale', 'kale', 'kale', 'kale', 'kale', 'kale', 'kale',\n",
              "       'kale', 'kale', 'kale', 'kale', 'kale', 'kale', 'kale', 'kale',\n",
              "       'kale', 'kale', 'kale', 'kale', 'kale', 'kale', 'kale', 'kale',\n",
              "       'kale', 'kale', 'kale', 'kale', 'kale', 'kale', 'kale', 'kale',\n",
              "       'kale', 'kale', 'kale', 'kale', 'kale', 'kale', 'kale', 'kale',\n",
              "       'kale', 'kale', 'kale', 'kale', 'kale', 'kale', 'kale', 'kale',\n",
              "       'kale', 'kale', 'kale', 'kale', 'kale', 'kale', 'kale', 'kale',\n",
              "       'kale', 'kale', 'kale', 'kale', 'kale', 'kale', 'kale', 'kale',\n",
              "       'kale', 'kale', 'kale', 'kale', 'kale', 'kale', 'kale', 'kale',\n",
              "       'kale', 'kale', 'kale', 'kale', 'kale', 'kale', 'kale', 'kale',\n",
              "       'kale', 'kale', 'kale', 'kale', 'kale', 'kale', 'kale', 'kale',\n",
              "       'kale', 'kale', 'kale', 'kale', 'kale', 'kale', 'kale', 'kale',\n",
              "       'kale', 'kale', 'kale', 'kale', 'kale', 'kale', 'kale', 'kale',\n",
              "       'kale', 'kale', 'kale', 'kale', 'kale', 'kale', 'kale', 'kale',\n",
              "       'kale', 'kale', 'kale', 'kale', 'kale', 'kale', 'kale', 'kale',\n",
              "       'kale', 'kale', 'kale', 'kale', 'kale', 'kale', 'kale', 'kale',\n",
              "       'kale', 'kale', 'kale', 'kale', 'kale', 'kale', 'kale', 'kale',\n",
              "       'kale', 'kale', 'kale', 'kale', 'kale', 'kale', 'kale', 'kale',\n",
              "       'kale', 'kale', 'kale', 'kale', 'kale', 'kale', 'kale', 'kale',\n",
              "       'kale', 'kale', 'kale', 'kale', 'kale', 'kale', 'kale', 'kale',\n",
              "       'kale', 'kale', 'kale', 'kale', 'kale', 'kale', 'kale', 'kale',\n",
              "       'kale', 'kale', 'kale', 'kale', 'kale', 'kale', 'lettuce',\n",
              "       'lettuce', 'lettuce', 'lettuce', 'lettuce', 'lettuce', 'lettuce',\n",
              "       'lettuce', 'lettuce', 'lettuce', 'lettuce', 'lettuce', 'lettuce',\n",
              "       'lettuce', 'lettuce', 'lettuce', 'lettuce', 'lettuce', 'lettuce',\n",
              "       'lettuce', 'lettuce', 'lettuce', 'lettuce', 'lettuce', 'lettuce',\n",
              "       'lettuce', 'lettuce', 'lettuce', 'lettuce', 'lettuce', 'lettuce',\n",
              "       'lettuce', 'lettuce', 'lettuce', 'lettuce', 'lettuce', 'lettuce',\n",
              "       'lettuce', 'lettuce', 'lettuce', 'lettuce', 'lettuce', 'lettuce',\n",
              "       'lettuce', 'lettuce', 'lettuce', 'lettuce', 'lettuce', 'lettuce',\n",
              "       'lettuce', 'lettuce', 'lettuce', 'lettuce', 'lettuce', 'lettuce',\n",
              "       'lettuce', 'lettuce', 'lettuce', 'lettuce', 'lettuce', 'lettuce',\n",
              "       'lettuce', 'lettuce', 'lettuce', 'lettuce', 'lettuce', 'lettuce',\n",
              "       'lettuce', 'lettuce', 'lettuce', 'lettuce', 'lettuce', 'lettuce',\n",
              "       'lettuce', 'lettuce', 'lettuce', 'lettuce', 'lettuce', 'lettuce',\n",
              "       'lettuce', 'lettuce', 'lettuce', 'lettuce', 'lettuce', 'lettuce',\n",
              "       'lettuce', 'lettuce', 'lettuce', 'lettuce', 'lettuce', 'lettuce',\n",
              "       'lettuce', 'lettuce', 'lettuce', 'lettuce', 'lettuce', 'lettuce',\n",
              "       'lettuce', 'lettuce', 'lettuce', 'lettuce', 'lettuce', 'lettuce',\n",
              "       'lettuce', 'lettuce', 'lettuce', 'lettuce', 'lettuce', 'lettuce',\n",
              "       'lettuce', 'lettuce', 'lettuce', 'lettuce', 'lettuce', 'lettuce',\n",
              "       'lettuce', 'lettuce', 'lettuce', 'lettuce', 'lettuce', 'lettuce',\n",
              "       'lettuce', 'lettuce', 'lettuce', 'lettuce', 'lettuce', 'lettuce',\n",
              "       'lettuce', 'lettuce', 'lettuce', 'lettuce', 'lettuce', 'lettuce',\n",
              "       'lettuce', 'lettuce', 'lettuce', 'lettuce', 'lettuce', 'lettuce',\n",
              "       'lettuce', 'lettuce', 'lettuce', 'lettuce', 'lettuce', 'lettuce',\n",
              "       'lettuce', 'lettuce', 'lettuce', 'lettuce', 'lettuce', 'lettuce',\n",
              "       'lettuce', 'lettuce', 'lettuce', 'lettuce', 'lettuce', 'lettuce',\n",
              "       'lettuce', 'lettuce', 'lettuce', 'lettuce', 'lettuce', 'lettuce',\n",
              "       'lettuce', 'lettuce', 'lettuce', 'lettuce', 'lettuce', 'lettuce',\n",
              "       'lettuce', 'lettuce', 'lettuce', 'lettuce', 'lettuce', 'lettuce',\n",
              "       'lettuce', 'lettuce', 'lettuce', 'lettuce', 'lettuce', 'lettuce',\n",
              "       'lettuce', 'lettuce', 'lettuce', 'lettuce', 'lettuce', 'lettuce',\n",
              "       'lettuce', 'lettuce', 'lettuce', 'lettuce', 'lettuce', 'lettuce',\n",
              "       'lettuce', 'lettuce', 'lettuce', 'lettuce', 'lettuce', 'lettuce',\n",
              "       'lettuce', 'lettuce', 'lettuce', 'lettuce', 'lettuce', 'lettuce',\n",
              "       'lettuce', 'lettuce', 'lettuce', 'lettuce', 'lettuce', 'lettuce',\n",
              "       'lettuce', 'lettuce', 'lettuce', 'lettuce', 'lettuce', 'lettuce',\n",
              "       'lettuce', 'lettuce', 'lettuce', 'lettuce', 'lettuce', 'lettuce',\n",
              "       'lettuce', 'lettuce', 'lettuce', 'lettuce', 'lettuce', 'lettuce',\n",
              "       'lettuce', 'spinach', 'spinach', 'spinach', 'spinach', 'spinach',\n",
              "       'spinach', 'spinach', 'spinach', 'spinach', 'spinach', 'spinach',\n",
              "       'spinach', 'spinach', 'spinach', 'spinach', 'spinach', 'spinach',\n",
              "       'spinach', 'spinach', 'spinach', 'spinach', 'spinach', 'spinach',\n",
              "       'spinach', 'spinach', 'spinach', 'spinach', 'spinach', 'spinach',\n",
              "       'spinach', 'spinach', 'spinach', 'spinach', 'spinach', 'spinach',\n",
              "       'spinach', 'spinach', 'spinach', 'spinach', 'spinach', 'spinach',\n",
              "       'spinach', 'spinach', 'spinach', 'spinach', 'spinach', 'spinach',\n",
              "       'spinach', 'spinach', 'spinach', 'spinach', 'spinach', 'spinach',\n",
              "       'spinach', 'spinach', 'spinach', 'spinach', 'spinach', 'spinach',\n",
              "       'spinach', 'spinach', 'spinach', 'spinach', 'spinach', 'spinach',\n",
              "       'spinach', 'spinach', 'spinach', 'spinach', 'spinach', 'spinach',\n",
              "       'spinach', 'spinach', 'spinach', 'spinach', 'spinach', 'spinach',\n",
              "       'spinach', 'spinach', 'spinach', 'spinach', 'spinach', 'spinach',\n",
              "       'spinach', 'spinach', 'spinach', 'spinach', 'spinach', 'spinach',\n",
              "       'spinach', 'spinach', 'spinach', 'spinach', 'spinach', 'spinach',\n",
              "       'spinach', 'spinach', 'spinach', 'spinach', 'spinach', 'spinach',\n",
              "       'spinach', 'spinach', 'spinach', 'spinach', 'spinach', 'spinach',\n",
              "       'spinach', 'spinach', 'spinach', 'spinach', 'spinach', 'spinach',\n",
              "       'spinach', 'spinach', 'spinach', 'spinach', 'spinach', 'spinach',\n",
              "       'spinach', 'spinach', 'spinach', 'spinach', 'spinach', 'spinach',\n",
              "       'spinach', 'spinach', 'spinach', 'spinach', 'spinach', 'spinach',\n",
              "       'spinach', 'spinach', 'spinach', 'spinach', 'spinach', 'spinach',\n",
              "       'spinach', 'spinach', 'spinach', 'spinach', 'spinach', 'spinach',\n",
              "       'spinach', 'spinach', 'spinach', 'spinach', 'spinach', 'spinach',\n",
              "       'spinach', 'spinach', 'spinach', 'spinach', 'spinach', 'spinach',\n",
              "       'spinach', 'spinach', 'spinach', 'spinach', 'spinach', 'spinach',\n",
              "       'spinach', 'spinach', 'spinach', 'spinach', 'spinach', 'spinach',\n",
              "       'spinach', 'spinach', 'spinach', 'spinach', 'spinach', 'spinach',\n",
              "       'spinach', 'spinach', 'spinach', 'spinach', 'spinach', 'spinach',\n",
              "       'spinach', 'spinach', 'spinach', 'spinach', 'spinach', 'spinach',\n",
              "       'spinach', 'spinach', 'spinach', 'spinach', 'spinach', 'spinach',\n",
              "       'spinach', 'spinach', 'spinach', 'spinach', 'spinach', 'spinach',\n",
              "       'spinach', 'spinach', 'spinach', 'spinach', 'spinach', 'spinach',\n",
              "       'spinach', 'spinach', 'spinach', 'spinach', 'spinach', 'spinach',\n",
              "       'spinach', 'spinach', 'spinach', 'spinach', 'spinach', 'spinach',\n",
              "       'spinach', 'spinach', 'spinach', 'spinach', 'spinach', 'spinach',\n",
              "       'spinach', 'spinach', 'spinach', 'spinach', 'spinach', 'spinach',\n",
              "       'spinach', 'spinach', 'spinach', 'water spinach', 'water spinach',\n",
              "       'water spinach', 'water spinach', 'water spinach', 'water spinach',\n",
              "       'water spinach', 'water spinach', 'water spinach', 'water spinach',\n",
              "       'water spinach', 'water spinach', 'water spinach', 'water spinach',\n",
              "       'water spinach', 'water spinach', 'water spinach', 'water spinach',\n",
              "       'water spinach', 'water spinach', 'water spinach', 'water spinach',\n",
              "       'water spinach', 'water spinach', 'water spinach', 'water spinach',\n",
              "       'water spinach', 'water spinach', 'water spinach', 'water spinach',\n",
              "       'water spinach', 'water spinach', 'water spinach', 'water spinach',\n",
              "       'water spinach', 'water spinach', 'water spinach', 'water spinach',\n",
              "       'water spinach', 'water spinach', 'water spinach', 'water spinach',\n",
              "       'water spinach', 'water spinach', 'water spinach', 'water spinach',\n",
              "       'water spinach', 'water spinach', 'water spinach', 'water spinach',\n",
              "       'water spinach', 'water spinach', 'water spinach', 'water spinach',\n",
              "       'water spinach', 'water spinach', 'water spinach', 'water spinach',\n",
              "       'water spinach', 'water spinach', 'water spinach', 'water spinach',\n",
              "       'water spinach', 'water spinach', 'water spinach', 'water spinach',\n",
              "       'water spinach', 'water spinach', 'water spinach', 'water spinach',\n",
              "       'water spinach', 'water spinach', 'water spinach', 'water spinach',\n",
              "       'water spinach', 'water spinach', 'water spinach', 'water spinach',\n",
              "       'water spinach', 'water spinach', 'water spinach', 'water spinach',\n",
              "       'water spinach', 'water spinach', 'water spinach', 'water spinach',\n",
              "       'water spinach', 'water spinach', 'water spinach', 'water spinach',\n",
              "       'water spinach', 'water spinach', 'water spinach', 'water spinach',\n",
              "       'water spinach', 'water spinach', 'water spinach', 'water spinach',\n",
              "       'water spinach', 'water spinach', 'water spinach', 'water spinach',\n",
              "       'water spinach', 'water spinach', 'water spinach', 'water spinach',\n",
              "       'water spinach', 'water spinach', 'water spinach', 'water spinach',\n",
              "       'water spinach', 'water spinach', 'water spinach', 'water spinach',\n",
              "       'water spinach', 'water spinach', 'water spinach', 'water spinach',\n",
              "       'water spinach', 'water spinach', 'water spinach', 'water spinach',\n",
              "       'water spinach', 'water spinach', 'water spinach', 'water spinach',\n",
              "       'water spinach', 'water spinach', 'water spinach', 'water spinach',\n",
              "       'water spinach', 'water spinach', 'water spinach', 'water spinach',\n",
              "       'water spinach', 'water spinach', 'water spinach', 'water spinach',\n",
              "       'water spinach', 'water spinach', 'water spinach', 'water spinach',\n",
              "       'water spinach', 'water spinach', 'water spinach', 'water spinach',\n",
              "       'water spinach', 'water spinach', 'water spinach', 'water spinach',\n",
              "       'water spinach', 'water spinach', 'water spinach', 'water spinach',\n",
              "       'water spinach', 'water spinach', 'water spinach', 'water spinach',\n",
              "       'water spinach', 'water spinach', 'water spinach', 'water spinach',\n",
              "       'water spinach', 'water spinach', 'water spinach', 'water spinach',\n",
              "       'water spinach', 'water spinach', 'water spinach', 'water spinach',\n",
              "       'water spinach', 'water spinach', 'water spinach', 'water spinach',\n",
              "       'water spinach', 'water spinach', 'water spinach', 'water spinach',\n",
              "       'water spinach', 'water spinach', 'water spinach', 'water spinach',\n",
              "       'water spinach', 'water spinach', 'water spinach', 'water spinach',\n",
              "       'water spinach', 'water spinach', 'water spinach', 'water spinach',\n",
              "       'water spinach', 'water spinach', 'water spinach', 'water spinach',\n",
              "       'water spinach', 'water spinach', 'water spinach', 'water spinach',\n",
              "       'water spinach', 'water spinach', 'water spinach', 'water spinach',\n",
              "       'water spinach', 'water spinach', 'water spinach', 'water spinach',\n",
              "       'water spinach', 'water spinach', 'water spinach', 'water spinach',\n",
              "       'water spinach', 'water spinach', 'water spinach', 'water spinach',\n",
              "       'water spinach', 'water spinach', 'water spinach', 'water spinach',\n",
              "       'water spinach', 'water spinach', 'water spinach', 'water spinach',\n",
              "       'water spinach', 'water spinach', 'water spinach', 'water spinach',\n",
              "       'water spinach', 'water spinach', 'water spinach', 'water spinach'],\n",
              "      dtype='<U13')"
            ]
          },
          "metadata": {
            "tags": []
          },
          "execution_count": 87
        }
      ]
    }
  ]
}