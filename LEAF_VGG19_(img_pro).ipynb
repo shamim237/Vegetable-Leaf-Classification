{
  "nbformat": 4,
  "nbformat_minor": 0,
  "metadata": {
    "colab": {
      "name": "LEAF_VGG19 (img_pro).ipynb",
      "provenance": [],
      "collapsed_sections": [],
      "include_colab_link": true
    },
    "kernelspec": {
      "name": "python3",
      "display_name": "Python 3"
    },
    "language_info": {
      "name": "python"
    },
    "accelerator": "GPU"
  },
  "cells": [
    {
      "cell_type": "markdown",
      "metadata": {
        "id": "view-in-github",
        "colab_type": "text"
      },
      "source": [
        "<a href=\"https://colab.research.google.com/github/shamim237/Vegetable-Leaf-Classification/blob/main/LEAF_VGG19_(img_pro).ipynb\" target=\"_parent\"><img src=\"https://colab.research.google.com/assets/colab-badge.svg\" alt=\"Open In Colab\"/></a>"
      ]
    },
    {
      "cell_type": "code",
      "metadata": {
        "colab": {
          "base_uri": "https://localhost:8080/"
        },
        "id": "434ZqfQJGP3c",
        "outputId": "23878446-f31d-417a-d00a-2b1576fa42f7"
      },
      "source": [
        "from google.colab import drive\n",
        "drive.mount('/content/drive')"
      ],
      "execution_count": null,
      "outputs": [
        {
          "output_type": "stream",
          "text": [
            "Mounted at /content/drive\n"
          ],
          "name": "stdout"
        }
      ]
    },
    {
      "cell_type": "code",
      "metadata": {
        "id": "VTZVyTL1HDEh"
      },
      "source": [
        "import random\n",
        "import os\n",
        "import cv2\n",
        "from PIL import Image\n",
        "import glob\n",
        "import matplotlib.pyplot as plt\n",
        "import matplotlib.image as mpimg\n",
        "import numpy as np\n",
        "import tensorflow as tf\n",
        "from keras.models import Model, load_model, Sequential\n",
        "from tensorflow.keras.preprocessing import image\n",
        "from keras.layers import Input, Add, Dense,GlobalAvgPool2D, Concatenate, AvgPool2D, Dropout, ReLU, Activation, MaxPool2D, ZeroPadding2D, BatchNormalization, Flatten, Conv2D, GlobalAveragePooling2D, AveragePooling2D, MaxPooling2D, GlobalMaxPooling2D\n",
        "from tensorflow.keras.optimizers import RMSprop, Adam, SGD"
      ],
      "execution_count": null,
      "outputs": []
    },
    {
      "cell_type": "code",
      "metadata": {
        "id": "PIiJWmoCHDIF"
      },
      "source": [
        "size = 128\n",
        "num_classes= 4"
      ],
      "execution_count": null,
      "outputs": []
    },
    {
      "cell_type": "code",
      "metadata": {
        "id": "cFeHKFLkHDLT"
      },
      "source": [
        "# Leave it as comment, you don't have to run this\n",
        "\n",
        "# train_images = []\n",
        "# train_labels = [] \n",
        "\n",
        "# for directory_path in glob.glob(\"/content/drive/MyDrive/LEAF_DATASET(EQUAL)/LEAF_DATASET(EQUAL)/train/*\"):\n",
        "#     label = directory_path.split(\"/\")[-1]\n",
        "#     print(label)\n",
        "#     for img_path in glob.glob(os.path.join(directory_path, \"*.jpg\")):\n",
        "#         print(img_path)\n",
        "#         img = cv2.imread(img_path, cv2.IMREAD_COLOR)       \n",
        "#         img = cv2.resize(img, (size, size ))\n",
        "#         img = cv2.cvtColor(img, cv2.COLOR_RGB2GRAY)\n",
        "#         img = cv2.Canny(img, 10, 200)\n",
        "#         train_images.append(img)\n",
        "#         train_labels.append(label)\n",
        "\n",
        "# #Convert lists to arrays        \n",
        "# train_images = np.array(train_images)\n",
        "# train_labels = np.array(train_labels)"
      ],
      "execution_count": null,
      "outputs": []
    },
    {
      "cell_type": "code",
      "metadata": {
        "id": "c3-LbtkQHDOf"
      },
      "source": [
        "# Leave it as comment, you don't have to run this\n",
        "\n",
        "# test_images = []\n",
        "# test_labels = [] \n",
        "\n",
        "# for directory_path in glob.glob(\"/content/drive/MyDrive/LEAF_DATASET(EQUAL)/LEAF_DATASET(EQUAL)/validation/*\"):\n",
        "#     im_label = directory_path.split(\"/\")[-1]\n",
        "#     for img_path in glob.glob(os.path.join(directory_path, \"*.jpg\")):\n",
        "#         img = cv2.imread(img_path, cv2.IMREAD_COLOR)\n",
        "#         img = cv2.resize(img, (size, size))\n",
        "#         img = cv2.cvtColor(img, cv2.COLOR_RGB2GRAY)\n",
        "#         img = cv2.Canny(img, 10, 200)\n",
        "#         #train_images.append(img)\n",
        "#         test_images.append(img)\n",
        "#         test_labels.append(im_label)\n",
        "#         print(img_path)\n",
        "\n",
        "# #Convert lists to arrays                \n",
        "# test_images = np.array(test_images)\n",
        "# test_labels = np.array(test_labels)"
      ],
      "execution_count": null,
      "outputs": []
    },
    {
      "cell_type": "code",
      "metadata": {
        "id": "mDGZ1pW0HDR4"
      },
      "source": [
        "# import pickle\n",
        "\n",
        "# pick_in = open('/content/drive/MyDrive/LEAF_DATASET(EQUAL)/leaf_data_train(canny).pickle', 'wb')\n",
        "# pickle.dump(train_images, pick_in)\n",
        "# pick_in.close()\n",
        "\n",
        "# pick_in = open('/content/drive/MyDrive/LEAF_DATASET(EQUAL)/leaf_train_labels(canny).pickle', 'wb')\n",
        "# pickle.dump(train_labels, pick_in)\n",
        "# pick_in.close()\n",
        "\n",
        "# pick_in = open('/content/drive/MyDrive/LEAF_DATASET(EQUAL)/leaf_data_test(canny).pickle', 'wb')\n",
        "# pickle.dump(test_images, pick_in)\n",
        "# pick_in.close()\n",
        "\n",
        "# pick_in = open('/content/drive/MyDrive/LEAF_DATASET(EQUAL)/leaf_test_labels(canny).pickle', 'wb')\n",
        "# pickle.dump(test_labels, pick_in)\n",
        "# pick_in.close()"
      ],
      "execution_count": null,
      "outputs": []
    },
    {
      "cell_type": "code",
      "metadata": {
        "id": "Qol-WmueHDUT"
      },
      "source": [
        "import pickle\n",
        "\n",
        "pick_in = open('/content/drive/MyDrive/LEAF_DATASET(EQUAL)/leaf_data_train(canny).pickle', 'rb')\n",
        "train_images = pickle.load(pick_in)\n",
        "pick_in.close()\n",
        "\n",
        "pick_in = open('/content/drive/MyDrive/LEAF_DATASET(EQUAL)/leaf_train_labels(canny).pickle', 'rb')\n",
        "train_labels = pickle.load(pick_in)\n",
        "pick_in.close()\n",
        "\n",
        "pick_in = open('/content/drive/MyDrive/LEAF_DATASET(EQUAL)/leaf_data_test(canny).pickle', 'rb')\n",
        "test_images = pickle.load(pick_in)\n",
        "pick_in.close()\n",
        "\n",
        "pick_in = open('/content/drive/MyDrive/LEAF_DATASET(EQUAL)/leaf_test_labels(canny).pickle', 'rb')\n",
        "test_labels = pickle.load(pick_in)\n",
        "pick_in.close()"
      ],
      "execution_count": null,
      "outputs": []
    },
    {
      "cell_type": "code",
      "metadata": {
        "id": "UcBVKq_FHDZN"
      },
      "source": [
        "from sklearn import preprocessing\n",
        "le = preprocessing.LabelEncoder()\n",
        "le.fit(test_labels)\n",
        "test_labels_encoded = le.transform(test_labels)\n",
        "le.fit(train_labels)\n",
        "train_labels_encoded = le.transform(train_labels)"
      ],
      "execution_count": null,
      "outputs": []
    },
    {
      "cell_type": "code",
      "metadata": {
        "id": "TOjv8AhVHDb3"
      },
      "source": [
        "x_train, y_train, x_test, y_test = train_images, train_labels_encoded, test_images, test_labels_encoded"
      ],
      "execution_count": null,
      "outputs": []
    },
    {
      "cell_type": "code",
      "metadata": {
        "id": "HEYsfu6_HDeV"
      },
      "source": [
        "x_train, x_test = x_train / 255.0, x_test / 255.0"
      ],
      "execution_count": null,
      "outputs": []
    },
    {
      "cell_type": "code",
      "metadata": {
        "id": "-3VjfEnjHDgh"
      },
      "source": [
        "from keras.utils import to_categorical\n",
        "y_train = to_categorical(y_train, num_classes)\n",
        "y_test = to_categorical(y_test, num_classes)"
      ],
      "execution_count": null,
      "outputs": []
    },
    {
      "cell_type": "code",
      "metadata": {
        "colab": {
          "base_uri": "https://localhost:8080/"
        },
        "id": "RtLKxxJOHDjQ",
        "outputId": "2e5fdeb9-8591-4ad8-cbc9-3a16a8aeb80c"
      },
      "source": [
        "x_train.shape, x_test.shape, y_train.shape, y_test.shape"
      ],
      "execution_count": null,
      "outputs": [
        {
          "output_type": "execute_result",
          "data": {
            "text/plain": [
              "((4120, 128, 128), (920, 128, 128), (4120, 4), (920, 4))"
            ]
          },
          "metadata": {
            "tags": []
          },
          "execution_count": 9
        }
      ]
    },
    {
      "cell_type": "code",
      "metadata": {
        "colab": {
          "base_uri": "https://localhost:8080/",
          "height": 285
        },
        "id": "aMfUA0HHHDmm",
        "outputId": "0c0988f0-cb98-4a99-9070-45dc651ac35a"
      },
      "source": [
        "plt.imshow(x_train[2300], cmap= 'binary')"
      ],
      "execution_count": null,
      "outputs": [
        {
          "output_type": "execute_result",
          "data": {
            "text/plain": [
              "<matplotlib.image.AxesImage at 0x7fdfb8fe24d0>"
            ]
          },
          "metadata": {
            "tags": []
          },
          "execution_count": 14
        },
        {
          "output_type": "display_data",
          "data": {
            "image/png": "[encoded data removed]",
            "text/plain": [
              "<Figure size 432x288 with 1 Axes>"
            ]
          },
          "metadata": {
            "tags": [],
            "needs_background": "light"
          }
        }
      ]
    },
    {
      "cell_type": "code",
      "metadata": {
        "id": "hR5-Hj8abGNY",
        "colab": {
          "base_uri": "https://localhost:8080/"
        },
        "outputId": "61df0e06-7e50-43da-e434-5f794b02a566"
      },
      "source": [
        "x_train = np.repeat(x_train[..., np.newaxis], 3, -1) # reshape the image shape to rgb channels\n",
        "print(x_train.shape)"
      ],
      "execution_count": null,
      "outputs": [
        {
          "output_type": "stream",
          "text": [
            "(4120, 128, 128, 3)\n"
          ],
          "name": "stdout"
        }
      ]
    },
    {
      "cell_type": "code",
      "metadata": {
        "colab": {
          "base_uri": "https://localhost:8080/"
        },
        "id": "MFQ2goAvS2Y5",
        "outputId": "40adcff9-62fb-499b-f312-1414937951df"
      },
      "source": [
        "x_test = np.repeat(x_test[..., np.newaxis], 3 , -1) # reshape the image shape to rgb channels\n",
        "print(x_test.shape) "
      ],
      "execution_count": null,
      "outputs": [
        {
          "output_type": "stream",
          "text": [
            "(920, 128, 128, 3)\n"
          ],
          "name": "stdout"
        }
      ]
    },
    {
      "cell_type": "code",
      "metadata": {
        "id": "FfIwLgh5GSHO",
        "colab": {
          "base_uri": "https://localhost:8080/"
        },
        "outputId": "325099f9-d4a3-4cc3-ae61-b061c26f89d0"
      },
      "source": [
        "x_train.shape"
      ],
      "execution_count": null,
      "outputs": [
        {
          "output_type": "execute_result",
          "data": {
            "text/plain": [
              "(4120, 128, 128, 3)"
            ]
          },
          "metadata": {
            "tags": []
          },
          "execution_count": 17
        }
      ]
    },
    {
      "cell_type": "code",
      "metadata": {
        "id": "N3O4RINfP2Xw",
        "colab": {
          "base_uri": "https://localhost:8080/"
        },
        "outputId": "7f92f7cf-175d-42a4-b96d-aa29bb91a4e7"
      },
      "source": [
        "model_d= tf.keras.applications.VGG19(weights=\"imagenet\", include_top=False,input_tensor=Input(shape=(size, size, 3))) # Load VGG-19 weights"
      ],
      "execution_count": null,
      "outputs": [
        {
          "output_type": "stream",
          "text": [
            "Downloading data from https://storage.googleapis.com/tensorflow/keras-applications/vgg19/vgg19_weights_tf_dim_ordering_tf_kernels_notop.h5\n",
            "80142336/80134624 [==============================] - 1s 0us/step\n"
          ],
          "name": "stdout"
        }
      ]
    },
    {
      "cell_type": "code",
      "metadata": {
        "id": "DfSWSCwKHDr7"
      },
      "source": [
        "x= model_d.layers[-3].output\n",
        "x= GlobalAveragePooling2D()(x)\n",
        "x= Dropout(0.3)(x)\n",
        "x= Dense(512,activation='relu')(x) \n",
        "x= BatchNormalization()(x)\n",
        "x= Dense(64,activation='relu')(x)\n",
        "\n",
        "predictions= Dense(4, activation = 'softmax')(x)\n",
        "model= Model(inputs= model_d.input, outputs= predictions)"
      ],
      "execution_count": null,
      "outputs": []
    },
    {
      "cell_type": "code",
      "metadata": {
        "id": "IBpgDOGSQO-1"
      },
      "source": [
        "for layer in model.layers[:-8]:\n",
        "    layer.trainable = False"
      ],
      "execution_count": null,
      "outputs": []
    },
    {
      "cell_type": "code",
      "metadata": {
        "colab": {
          "base_uri": "https://localhost:8080/"
        },
        "id": "kzMSE77ZHDzn",
        "outputId": "61c53ac3-aed8-4915-eed6-220d3e18d94c"
      },
      "source": [
        "model.summary()"
      ],
      "execution_count": null,
      "outputs": [
        {
          "output_type": "stream",
          "text": [
            "Model: \"model\"\n",
            "_________________________________________________________________\n",
            "Layer (type)                 Output Shape              Param #   \n",
            "=================================================================\n",
            "input_1 (InputLayer)         [(None, 128, 128, 3)]     0         \n",
            "_________________________________________________________________\n",
            "block1_conv1 (Conv2D)        (None, 128, 128, 64)      1792      \n",
            "_________________________________________________________________\n",
            "block1_conv2 (Conv2D)        (None, 128, 128, 64)      36928     \n",
            "_________________________________________________________________\n",
            "block1_pool (MaxPooling2D)   (None, 64, 64, 64)        0         \n",
            "_________________________________________________________________\n",
            "block2_conv1 (Conv2D)        (None, 64, 64, 128)       73856     \n",
            "_________________________________________________________________\n",
            "block2_conv2 (Conv2D)        (None, 64, 64, 128)       147584    \n",
            "_________________________________________________________________\n",
            "block2_pool (MaxPooling2D)   (None, 32, 32, 128)       0         \n",
            "_________________________________________________________________\n",
            "block3_conv1 (Conv2D)        (None, 32, 32, 256)       295168    \n",
            "_________________________________________________________________\n",
            "block3_conv2 (Conv2D)        (None, 32, 32, 256)       590080    \n",
            "_________________________________________________________________\n",
            "block3_conv3 (Conv2D)        (None, 32, 32, 256)       590080    \n",
            "_________________________________________________________________\n",
            "block3_conv4 (Conv2D)        (None, 32, 32, 256)       590080    \n",
            "_________________________________________________________________\n",
            "block3_pool (MaxPooling2D)   (None, 16, 16, 256)       0         \n",
            "_________________________________________________________________\n",
            "block4_conv1 (Conv2D)        (None, 16, 16, 512)       1180160   \n",
            "_________________________________________________________________\n",
            "block4_conv2 (Conv2D)        (None, 16, 16, 512)       2359808   \n",
            "_________________________________________________________________\n",
            "block4_conv3 (Conv2D)        (None, 16, 16, 512)       2359808   \n",
            "_________________________________________________________________\n",
            "block4_conv4 (Conv2D)        (None, 16, 16, 512)       2359808   \n",
            "_________________________________________________________________\n",
            "block4_pool (MaxPooling2D)   (None, 8, 8, 512)         0         \n",
            "_________________________________________________________________\n",
            "block5_conv1 (Conv2D)        (None, 8, 8, 512)         2359808   \n",
            "_________________________________________________________________\n",
            "block5_conv2 (Conv2D)        (None, 8, 8, 512)         2359808   \n",
            "_________________________________________________________________\n",
            "block5_conv3 (Conv2D)        (None, 8, 8, 512)         2359808   \n",
            "_________________________________________________________________\n",
            "global_average_pooling2d (Gl (None, 512)               0         \n",
            "_________________________________________________________________\n",
            "dropout (Dropout)            (None, 512)               0         \n",
            "_________________________________________________________________\n",
            "dense (Dense)                (None, 512)               262656    \n",
            "_________________________________________________________________\n",
            "batch_normalization (BatchNo (None, 512)               2048      \n",
            "_________________________________________________________________\n",
            "dense_1 (Dense)              (None, 64)                32832     \n",
            "_________________________________________________________________\n",
            "dense_2 (Dense)              (None, 4)                 260       \n",
            "=================================================================\n",
            "Total params: 17,962,372\n",
            "Trainable params: 5,016,388\n",
            "Non-trainable params: 12,945,984\n",
            "_________________________________________________________________\n"
          ],
          "name": "stdout"
        }
      ]
    },
    {
      "cell_type": "code",
      "metadata": {
        "colab": {
          "base_uri": "https://localhost:8080/"
        },
        "id": "UdB_1p36F37C",
        "outputId": "f9feceff-e64f-4a71-dad4-b20491b0906b"
      },
      "source": [
        "# pip install tensorflow-addons # uncomment and run this, if you got an error in the next cell"
      ],
      "execution_count": null,
      "outputs": [
        {
          "output_type": "stream",
          "text": [
            "Collecting tensorflow-addons\n",
            "\u001b[?25l  Downloading https://files.pythonhosted.org/packages/74/e3/56d2fe76f0bb7c88ed9b2a6a557e25e83e252aec08f13de34369cd850a0b/tensorflow_addons-0.12.1-cp37-cp37m-manylinux2010_x86_64.whl (703kB)\n",
            "\r\u001b[K     |▌                               | 10kB 18.1MB/s eta 0:00:01\r\u001b[K     |█                               | 20kB 24.4MB/s eta 0:00:01\r\u001b[K     |█▍                              | 30kB 22.4MB/s eta 0:00:01\r\u001b[K     |█▉                              | 40kB 17.9MB/s eta 0:00:01\r\u001b[K     |██▎                             | 51kB 15.6MB/s eta 0:00:01\r\u001b[K     |██▉                             | 61kB 14.6MB/s eta 0:00:01\r\u001b[K     |███▎                            | 71kB 13.7MB/s eta 0:00:01\r\u001b[K     |███▊                            | 81kB 13.6MB/s eta 0:00:01\r\u001b[K     |████▏                           | 92kB 13.2MB/s eta 0:00:01\r\u001b[K     |████▋                           | 102kB 13.3MB/s eta 0:00:01\r\u001b[K     |█████▏                          | 112kB 13.3MB/s eta 0:00:01\r\u001b[K     |█████▋                          | 122kB 13.3MB/s eta 0:00:01\r\u001b[K     |██████                          | 133kB 13.3MB/s eta 0:00:01\r\u001b[K     |██████▌                         | 143kB 13.3MB/s eta 0:00:01\r\u001b[K     |███████                         | 153kB 13.3MB/s eta 0:00:01\r\u001b[K     |███████▌                        | 163kB 13.3MB/s eta 0:00:01\r\u001b[K     |████████                        | 174kB 13.3MB/s eta 0:00:01\r\u001b[K     |████████▍                       | 184kB 13.3MB/s eta 0:00:01\r\u001b[K     |████████▉                       | 194kB 13.3MB/s eta 0:00:01\r\u001b[K     |█████████▎                      | 204kB 13.3MB/s eta 0:00:01\r\u001b[K     |█████████▉                      | 215kB 13.3MB/s eta 0:00:01\r\u001b[K     |██████████▎                     | 225kB 13.3MB/s eta 0:00:01\r\u001b[K     |██████████▊                     | 235kB 13.3MB/s eta 0:00:01\r\u001b[K     |███████████▏                    | 245kB 13.3MB/s eta 0:00:01\r\u001b[K     |███████████▋                    | 256kB 13.3MB/s eta 0:00:01\r\u001b[K     |████████████▏                   | 266kB 13.3MB/s eta 0:00:01\r\u001b[K     |████████████▋                   | 276kB 13.3MB/s eta 0:00:01\r\u001b[K     |█████████████                   | 286kB 13.3MB/s eta 0:00:01\r\u001b[K     |█████████████▌                  | 296kB 13.3MB/s eta 0:00:01\r\u001b[K     |██████████████                  | 307kB 13.3MB/s eta 0:00:01\r\u001b[K     |██████████████▍                 | 317kB 13.3MB/s eta 0:00:01\r\u001b[K     |███████████████                 | 327kB 13.3MB/s eta 0:00:01\r\u001b[K     |███████████████▍                | 337kB 13.3MB/s eta 0:00:01\r\u001b[K     |███████████████▉                | 348kB 13.3MB/s eta 0:00:01\r\u001b[K     |████████████████▎               | 358kB 13.3MB/s eta 0:00:01\r\u001b[K     |████████████████▊               | 368kB 13.3MB/s eta 0:00:01\r\u001b[K     |█████████████████▎              | 378kB 13.3MB/s eta 0:00:01\r\u001b[K     |█████████████████▊              | 389kB 13.3MB/s eta 0:00:01\r\u001b[K     |██████████████████▏             | 399kB 13.3MB/s eta 0:00:01\r\u001b[K     |██████████████████▋             | 409kB 13.3MB/s eta 0:00:01\r\u001b[K     |███████████████████             | 419kB 13.3MB/s eta 0:00:01\r\u001b[K     |███████████████████▋            | 430kB 13.3MB/s eta 0:00:01\r\u001b[K     |████████████████████            | 440kB 13.3MB/s eta 0:00:01\r\u001b[K     |████████████████████▌           | 450kB 13.3MB/s eta 0:00:01\r\u001b[K     |█████████████████████           | 460kB 13.3MB/s eta 0:00:01\r\u001b[K     |█████████████████████▍          | 471kB 13.3MB/s eta 0:00:01\r\u001b[K     |██████████████████████          | 481kB 13.3MB/s eta 0:00:01\r\u001b[K     |██████████████████████▍         | 491kB 13.3MB/s eta 0:00:01\r\u001b[K     |██████████████████████▉         | 501kB 13.3MB/s eta 0:00:01\r\u001b[K     |███████████████████████▎        | 512kB 13.3MB/s eta 0:00:01\r\u001b[K     |███████████████████████▊        | 522kB 13.3MB/s eta 0:00:01\r\u001b[K     |████████████████████████▎       | 532kB 13.3MB/s eta 0:00:01\r\u001b[K     |████████████████████████▊       | 542kB 13.3MB/s eta 0:00:01\r\u001b[K     |█████████████████████████▏      | 552kB 13.3MB/s eta 0:00:01\r\u001b[K     |█████████████████████████▋      | 563kB 13.3MB/s eta 0:00:01\r\u001b[K     |██████████████████████████      | 573kB 13.3MB/s eta 0:00:01\r\u001b[K     |██████████████████████████▋     | 583kB 13.3MB/s eta 0:00:01\r\u001b[K     |███████████████████████████     | 593kB 13.3MB/s eta 0:00:01\r\u001b[K     |███████████████████████████▌    | 604kB 13.3MB/s eta 0:00:01\r\u001b[K     |████████████████████████████    | 614kB 13.3MB/s eta 0:00:01\r\u001b[K     |████████████████████████████▍   | 624kB 13.3MB/s eta 0:00:01\r\u001b[K     |████████████████████████████▉   | 634kB 13.3MB/s eta 0:00:01\r\u001b[K     |█████████████████████████████▍  | 645kB 13.3MB/s eta 0:00:01\r\u001b[K     |█████████████████████████████▉  | 655kB 13.3MB/s eta 0:00:01\r\u001b[K     |██████████████████████████████▎ | 665kB 13.3MB/s eta 0:00:01\r\u001b[K     |██████████████████████████████▊ | 675kB 13.3MB/s eta 0:00:01\r\u001b[K     |███████████████████████████████▏| 686kB 13.3MB/s eta 0:00:01\r\u001b[K     |███████████████████████████████▊| 696kB 13.3MB/s eta 0:00:01\r\u001b[K     |████████████████████████████████| 706kB 13.3MB/s \n",
            "\u001b[?25hRequirement already satisfied: typeguard>=2.7 in /usr/local/lib/python3.7/dist-packages (from tensorflow-addons) (2.7.1)\n",
            "Installing collected packages: tensorflow-addons\n",
            "Successfully installed tensorflow-addons-0.12.1\n"
          ],
          "name": "stdout"
        }
      ]
    },
    {
      "cell_type": "code",
      "metadata": {
        "id": "JhSQI4TiHD2m"
      },
      "source": [
        "import tensorflow_addons as tfa\n",
        "model.compile(optimizer= Adam(lr= 0.0001), \n",
        "              loss='categorical_crossentropy', metrics=['accuracy',\n",
        "              tf.keras.metrics.Precision(thresholds=None, top_k=None, class_id=None, name=None, dtype=None),\n",
        "              tf.keras.metrics.Recall(thresholds=None, top_k=None, class_id=None, name=None, dtype=None),\n",
        "              tfa.metrics.F1Score(num_classes=4),\n",
        "              tfa.metrics.CohenKappa(num_classes=4)])\n"
      ],
      "execution_count": null,
      "outputs": []
    },
    {
      "cell_type": "code",
      "metadata": {
        "colab": {
          "base_uri": "https://localhost:8080/"
        },
        "id": "6klHaovRZRjK",
        "outputId": "3b83a1e3-82fd-44db-f91d-35ae71d4adbd"
      },
      "source": [
        "history= model.fit(x_train, y_train, batch_size = 64, \n",
        "                   validation_data= (x_test, y_test), \n",
        "                   epochs = 20)"
      ],
      "execution_count": null,
      "outputs": [
        {
          "output_type": "stream",
          "text": [
            "Epoch 1/20\n",
            "65/65 [==============================] - 40s 96ms/step - loss: 0.7635 - accuracy: 0.6906 - precision: 0.7608 - recall: 0.6138 - f1_score: 0.6813 - cohen_kappa: 0.5869 - val_loss: 0.4024 - val_accuracy: 0.9370 - val_precision: 0.9861 - val_recall: 0.8500 - val_f1_score: 0.9366 - val_cohen_kappa: 0.9159\n",
            "Epoch 2/20\n",
            "65/65 [==============================] - 4s 69ms/step - loss: 0.1386 - accuracy: 0.9526 - precision: 0.9598 - recall: 0.9473 - f1_score: 0.9523 - cohen_kappa: 0.9368 - val_loss: 0.2154 - val_accuracy: 0.9576 - val_precision: 0.9794 - val_recall: 0.9304 - val_f1_score: 0.9572 - val_cohen_kappa: 0.9435\n",
            "Epoch 3/20\n",
            "65/65 [==============================] - 4s 69ms/step - loss: 0.0938 - accuracy: 0.9720 - precision: 0.9744 - recall: 0.9686 - f1_score: 0.9721 - cohen_kappa: 0.9626 - val_loss: 0.1673 - val_accuracy: 0.9533 - val_precision: 0.9600 - val_recall: 0.9402 - val_f1_score: 0.9525 - val_cohen_kappa: 0.9377\n",
            "Epoch 4/20\n",
            "65/65 [==============================] - 4s 69ms/step - loss: 0.0448 - accuracy: 0.9869 - precision: 0.9883 - recall: 0.9833 - f1_score: 0.9870 - cohen_kappa: 0.9825 - val_loss: 0.1339 - val_accuracy: 0.9543 - val_precision: 0.9594 - val_recall: 0.9511 - val_f1_score: 0.9539 - val_cohen_kappa: 0.9391\n",
            "Epoch 5/20\n",
            "65/65 [==============================] - 4s 69ms/step - loss: 0.0262 - accuracy: 0.9945 - precision: 0.9945 - recall: 0.9944 - f1_score: 0.9944 - cohen_kappa: 0.9927 - val_loss: 0.0517 - val_accuracy: 0.9826 - val_precision: 0.9836 - val_recall: 0.9793 - val_f1_score: 0.9827 - val_cohen_kappa: 0.9768\n",
            "Epoch 6/20\n",
            "65/65 [==============================] - 4s 69ms/step - loss: 0.0191 - accuracy: 0.9954 - precision: 0.9955 - recall: 0.9940 - f1_score: 0.9954 - cohen_kappa: 0.9939 - val_loss: 0.0293 - val_accuracy: 0.9891 - val_precision: 0.9891 - val_recall: 0.9870 - val_f1_score: 0.9891 - val_cohen_kappa: 0.9855\n",
            "Epoch 7/20\n",
            "65/65 [==============================] - 4s 69ms/step - loss: 0.0101 - accuracy: 0.9976 - precision: 0.9977 - recall: 0.9962 - f1_score: 0.9976 - cohen_kappa: 0.9969 - val_loss: 0.0310 - val_accuracy: 0.9891 - val_precision: 0.9902 - val_recall: 0.9870 - val_f1_score: 0.9891 - val_cohen_kappa: 0.9855\n",
            "Epoch 8/20\n",
            "65/65 [==============================] - 4s 69ms/step - loss: 0.0085 - accuracy: 0.9980 - precision: 0.9980 - recall: 0.9980 - f1_score: 0.9980 - cohen_kappa: 0.9974 - val_loss: 0.0423 - val_accuracy: 0.9880 - val_precision: 0.9891 - val_recall: 0.9870 - val_f1_score: 0.9880 - val_cohen_kappa: 0.9841\n",
            "Epoch 9/20\n",
            "65/65 [==============================] - 4s 69ms/step - loss: 0.0032 - accuracy: 0.9995 - precision: 0.9995 - recall: 0.9995 - f1_score: 0.9995 - cohen_kappa: 0.9993 - val_loss: 0.0288 - val_accuracy: 0.9848 - val_precision: 0.9859 - val_recall: 0.9848 - val_f1_score: 0.9848 - val_cohen_kappa: 0.9797\n",
            "Epoch 10/20\n",
            "65/65 [==============================] - 5s 70ms/step - loss: 0.0048 - accuracy: 0.9994 - precision: 0.9995 - recall: 0.9992 - f1_score: 0.9994 - cohen_kappa: 0.9992 - val_loss: 0.0809 - val_accuracy: 0.9783 - val_precision: 0.9783 - val_recall: 0.9783 - val_f1_score: 0.9781 - val_cohen_kappa: 0.9710\n",
            "Epoch 11/20\n",
            "65/65 [==============================] - 4s 69ms/step - loss: 0.0184 - accuracy: 0.9928 - precision: 0.9930 - recall: 0.9923 - f1_score: 0.9928 - cohen_kappa: 0.9904 - val_loss: 0.0558 - val_accuracy: 0.9815 - val_precision: 0.9826 - val_recall: 0.9815 - val_f1_score: 0.9814 - val_cohen_kappa: 0.9754\n",
            "Epoch 12/20\n",
            "65/65 [==============================] - 4s 69ms/step - loss: 0.0047 - accuracy: 0.9990 - precision: 0.9990 - recall: 0.9990 - f1_score: 0.9990 - cohen_kappa: 0.9986 - val_loss: 0.0175 - val_accuracy: 0.9924 - val_precision: 0.9935 - val_recall: 0.9924 - val_f1_score: 0.9924 - val_cohen_kappa: 0.9899\n",
            "Epoch 13/20\n",
            "65/65 [==============================] - 4s 69ms/step - loss: 0.0032 - accuracy: 0.9998 - precision: 0.9998 - recall: 0.9998 - f1_score: 0.9998 - cohen_kappa: 0.9997 - val_loss: 0.0377 - val_accuracy: 0.9870 - val_precision: 0.9870 - val_recall: 0.9870 - val_f1_score: 0.9869 - val_cohen_kappa: 0.9826\n",
            "Epoch 14/20\n",
            "65/65 [==============================] - 4s 68ms/step - loss: 0.0028 - accuracy: 0.9996 - precision: 0.9996 - recall: 0.9996 - f1_score: 0.9996 - cohen_kappa: 0.9994 - val_loss: 0.0140 - val_accuracy: 0.9946 - val_precision: 0.9946 - val_recall: 0.9946 - val_f1_score: 0.9946 - val_cohen_kappa: 0.9928\n",
            "Epoch 15/20\n",
            "65/65 [==============================] - 4s 69ms/step - loss: 0.0019 - accuracy: 0.9997 - precision: 0.9997 - recall: 0.9997 - f1_score: 0.9997 - cohen_kappa: 0.9996 - val_loss: 0.0582 - val_accuracy: 0.9804 - val_precision: 0.9804 - val_recall: 0.9804 - val_f1_score: 0.9803 - val_cohen_kappa: 0.9739\n",
            "Epoch 16/20\n",
            "65/65 [==============================] - 4s 69ms/step - loss: 0.0031 - accuracy: 0.9986 - precision: 0.9986 - recall: 0.9986 - f1_score: 0.9987 - cohen_kappa: 0.9982 - val_loss: 0.0296 - val_accuracy: 0.9902 - val_precision: 0.9902 - val_recall: 0.9902 - val_f1_score: 0.9902 - val_cohen_kappa: 0.9870\n",
            "Epoch 17/20\n",
            "65/65 [==============================] - 4s 69ms/step - loss: 8.9851e-04 - accuracy: 1.0000 - precision: 1.0000 - recall: 1.0000 - f1_score: 1.0000 - cohen_kappa: 1.0000 - val_loss: 0.0360 - val_accuracy: 0.9913 - val_precision: 0.9913 - val_recall: 0.9913 - val_f1_score: 0.9913 - val_cohen_kappa: 0.9884\n",
            "Epoch 18/20\n",
            "65/65 [==============================] - 4s 69ms/step - loss: 0.0014 - accuracy: 0.9994 - precision: 0.9994 - recall: 0.9994 - f1_score: 0.9994 - cohen_kappa: 0.9992 - val_loss: 0.0178 - val_accuracy: 0.9924 - val_precision: 0.9935 - val_recall: 0.9924 - val_f1_score: 0.9924 - val_cohen_kappa: 0.9899\n",
            "Epoch 19/20\n",
            "65/65 [==============================] - 4s 69ms/step - loss: 0.0104 - accuracy: 0.9964 - precision: 0.9964 - recall: 0.9964 - f1_score: 0.9963 - cohen_kappa: 0.9952 - val_loss: 0.0749 - val_accuracy: 0.9804 - val_precision: 0.9815 - val_recall: 0.9804 - val_f1_score: 0.9803 - val_cohen_kappa: 0.9739\n",
            "Epoch 20/20\n",
            "65/65 [==============================] - 4s 69ms/step - loss: 0.0033 - accuracy: 0.9992 - precision: 0.9992 - recall: 0.9992 - f1_score: 0.9992 - cohen_kappa: 0.9990 - val_loss: 0.0304 - val_accuracy: 0.9913 - val_precision: 0.9913 - val_recall: 0.9913 - val_f1_score: 0.9913 - val_cohen_kappa: 0.9884\n"
          ],
          "name": "stdout"
        }
      ]
    },
    {
      "cell_type": "code",
      "metadata": {
        "id": "DNI1yfWGcvng",
        "colab": {
          "base_uri": "https://localhost:8080/",
          "height": 402
        },
        "outputId": "214b14bd-d750-4bca-bccf-75b089b259d1"
      },
      "source": [
        "#matplotlib inline\n",
        "\n",
        "import matplotlib.image  as mpimg\n",
        "import matplotlib.pyplot as plt\n",
        "\n",
        "#-----------------------------------------------------------\n",
        "# Retrieve a list of list results on training and test data\n",
        "# sets for each training epoch\n",
        "#-----------------------------------------------------------\n",
        "# plot loss and accuracy\n",
        "plt.subplot(211)\n",
        "plt.title(\"Accuracy\")\n",
        "plt.plot(history.history[\"accuracy\"], color=\"g\", label=\"Train\")\n",
        "plt.plot(history.history[\"val_accuracy\"], color=\"b\", label=\"Validation\")\n",
        "plt.legend(loc=\"best\")\n",
        "\n",
        "plt.subplot(212)\n",
        "plt.title(\"Loss\")\n",
        "plt.plot(history.history[\"loss\"], color=\"g\", label=\"Train\")\n",
        "plt.plot(history.history[\"val_loss\"], color=\"b\", label=\"Validation\")\n",
        "plt.legend(loc=\"best\")\n",
        "\n",
        "plt.tight_layout()\n",
        "plt.show()\n",
        "\n",
        "print()\n",
        "train_accuracy = history.history[\"accuracy\"]\n",
        "valid_accuracy = history.history[\"val_accuracy\"]\n",
        "\n",
        "train_err = history.history[\"loss\"]\n",
        "valid_err = history.history[\"val_loss\"]\n",
        "\n",
        "\n",
        "print(\"train_accuracy : \", train_accuracy)\n",
        "print(\"valid_accuracy : \", valid_accuracy)\n",
        "print(\"train_err : \", train_err)\n",
        "print(\"valid_err : \", valid_err)"
      ],
      "execution_count": null,
      "outputs": [
        {
          "output_type": "display_data",
          "data": {
            "image/png": "[encoded data removed]",
            "text/plain": [
              "<Figure size 432x288 with 2 Axes>"
            ]
          },
          "metadata": {
            "tags": [],
            "needs_background": "light"
          }
        },
        {
          "output_type": "stream",
          "text": [
            "\n",
            "train_accuracy :  [0.8288834691047668, 0.9531553387641907, 0.9720873832702637, 0.9864077568054199, 0.9934465885162354, 0.9956310391426086, 0.996601939201355, 0.9983009696006775, 0.9990290999412537, 0.9980582594871521, 0.9951456189155579, 0.9987863898277283, 0.9997572898864746, 0.9992718696594238, 0.9997572898864746, 0.9992718696594238, 1.0, 0.9997572898864746, 0.9968446493148804, 0.9980582594871521]\n",
            "valid_accuracy :  [0.936956524848938, 0.957608699798584, 0.9532608985900879, 0.9543478488922119, 0.9826086759567261, 0.989130437374115, 0.989130437374115, 0.988043487071991, 0.9847826361656189, 0.97826087474823, 0.981521725654602, 0.9923912882804871, 0.9869565367698669, 0.9945651888847351, 0.980434775352478, 0.990217387676239, 0.991304337978363, 0.9923912882804871, 0.980434775352478, 0.991304337978363]\n",
            "train_err :  [0.44222062826156616, 0.13518904149532318, 0.0875822976231575, 0.045311082154512405, 0.025635190308094025, 0.016481924802064896, 0.01122091244906187, 0.008010665886104107, 0.004331622272729874, 0.008043171837925911, 0.013734049163758755, 0.005062985699623823, 0.0034152113366872072, 0.0030689386185258627, 0.001967004034668207, 0.002698135795071721, 0.0007704257150180638, 0.0013294462114572525, 0.012005262076854706, 0.006331044714897871]\n",
            "valid_err :  [0.40235379338264465, 0.215367391705513, 0.16725336015224457, 0.13393263518810272, 0.0516677126288414, 0.029321135953068733, 0.03099638968706131, 0.04225294291973114, 0.028759941458702087, 0.0808650329709053, 0.055835824459791183, 0.017491737380623817, 0.0377177819609642, 0.013998901471495628, 0.05823703855276108, 0.029574761167168617, 0.03596297651529312, 0.017817698419094086, 0.0749003142118454, 0.030448682606220245]\n"
          ],
          "name": "stdout"
        }
      ]
    },
    {
      "cell_type": "code",
      "metadata": {
        "id": "9vlqzkz6HD55",
        "colab": {
          "base_uri": "https://localhost:8080/"
        },
        "outputId": "0368d7b8-af1e-4a1e-b7e2-731e47e72583"
      },
      "source": [
        "(loss, \n",
        "accuracy, \n",
        "f1_score, precision, recall,cohen_kappa) = model.evaluate(x_test, y_test, verbose=1)\n",
        "print('Accuracy = ', (accuracy * 100.0))"
      ],
      "execution_count": null,
      "outputs": [
        {
          "output_type": "stream",
          "text": [
            "29/29 [==============================] - 1s 31ms/step - loss: 0.0304 - accuracy: 0.9913 - precision: 0.9913 - recall: 0.9913 - f1_score: 0.9913 - cohen_kappa: 0.9884\n",
            "Accuracy =  99.1304337978363\n"
          ],
          "name": "stdout"
        }
      ]
    },
    {
      "cell_type": "code",
      "metadata": {
        "id": "-gos2NTjpg_r"
      },
      "source": [
        "y_true = np.argmax(y_test, axis=-1)"
      ],
      "execution_count": null,
      "outputs": []
    },
    {
      "cell_type": "code",
      "metadata": {
        "id": "nI_yHEI0HBA_"
      },
      "source": [
        "y_pred = model.predict(x_test)\n",
        "y_pred = np.argmax(y_pred, axis=-1)"
      ],
      "execution_count": null,
      "outputs": []
    },
    {
      "cell_type": "code",
      "metadata": {
        "colab": {
          "base_uri": "https://localhost:8080/",
          "height": 604
        },
        "id": "-FK3k5orHFJW",
        "outputId": "b0bf36d9-9605-4283-f1d6-91ab528350e0"
      },
      "source": [
        "from sklearn.metrics import confusion_matrix\n",
        "import pandas as pd\n",
        "import seaborn as sn\n",
        "import matplotlib.pyplot as plt\n",
        "%matplotlib inline\n",
        "import numpy as np\n",
        "\n",
        "\n",
        "data = confusion_matrix(y_true, y_pred)\n",
        "df_cm = pd.DataFrame(data, columns=np.unique(y_true), index = np.unique(y_true))\n",
        "df_cm.index.name = 'Actual'\n",
        "df_cm.columns.name = 'Predicted'\n",
        "plt.figure(figsize = (10,9))\n",
        "plt.title('Confusion Matrix: VGG19')\n",
        "sn.set(font_scale=1.4)#for label size\n",
        "sn.heatmap(df_cm, cmap=\"GnBu\", annot=True, fmt= 'g', annot_kws={\"size\": 12})# font size"
      ],
      "execution_count": null,
      "outputs": [
        {
          "output_type": "execute_result",
          "data": {
            "text/plain": [
              "<matplotlib.axes._subplots.AxesSubplot at 0x7fdd947b3110>"
            ]
          },
          "metadata": {
            "tags": []
          },
          "execution_count": 36
        },
        {
          "output_type": "display_data",
          "data": {
            "image/png": "[encoded data removed]",
            "text/plain": [
              "<Figure size 720x648 with 2 Axes>"
            ]
          },
          "metadata": {
            "tags": [],
            "needs_background": "light"
          }
        }
      ]
    },
    {
      "cell_type": "code",
      "metadata": {
        "id": "HppIbpAzHFZL",
        "colab": {
          "base_uri": "https://localhost:8080/",
          "height": 285
        },
        "outputId": "ee6d0e39-f7f3-42ea-c4c1-250d346b1437"
      },
      "source": [
        "img = cv2.imread('/content/lettuce3.jpg')\n",
        "\n",
        "img = cv2.resize(img, (size, size ))\n",
        "img = cv2.cvtColor(img, cv2.COLOR_RGB2GRAY)\n",
        "img = cv2.Canny(img, 10, 200)\n",
        "img = cv2.cvtColor(img, cv2.COLOR_GRAY2RGB)\n",
        "plt.imshow(img)"
      ],
      "execution_count": null,
      "outputs": [
        {
          "output_type": "execute_result",
          "data": {
            "text/plain": [
              "<matplotlib.image.AxesImage at 0x7f6aa61332d0>"
            ]
          },
          "metadata": {
            "tags": []
          },
          "execution_count": 149
        },
        {
          "output_type": "display_data",
          "data": {
            "image/png": "[encoded data removed]",
            "text/plain": [
              "<Figure size 432x288 with 1 Axes>"
            ]
          },
          "metadata": {
            "tags": [],
            "needs_background": "light"
          }
        }
      ]
    },
    {
      "cell_type": "code",
      "metadata": {
        "colab": {
          "base_uri": "https://localhost:8080/"
        },
        "id": "qm2uYTSTlOlH",
        "outputId": "421cbd47-5cc0-4aa6-a70a-5e49e2553a26"
      },
      "source": [
        "img= img.reshape(1, 128,128,3)\n",
        "img.shape\n"
      ],
      "execution_count": null,
      "outputs": [
        {
          "output_type": "execute_result",
          "data": {
            "text/plain": [
              "(1, 128, 128, 3)"
            ]
          },
          "metadata": {
            "tags": []
          },
          "execution_count": 150
        }
      ]
    },
    {
      "cell_type": "code",
      "metadata": {
        "id": "tylYONwal85D"
      },
      "source": [
        "pred = model.predict(img)\n",
        "output = np.argmax(pred, axis=1)"
      ],
      "execution_count": null,
      "outputs": []
    },
    {
      "cell_type": "code",
      "metadata": {
        "colab": {
          "base_uri": "https://localhost:8080/"
        },
        "id": "jq-CbBX-nR7K",
        "outputId": "085214ff-b9fb-41dd-b739-7a2c8f1da5a0"
      },
      "source": [
        "output  # array[0] = kale, array[1] = lettuce, array[2] = spinach and array[3] = water_spinach"
      ],
      "execution_count": null,
      "outputs": [
        {
          "output_type": "execute_result",
          "data": {
            "text/plain": [
              "array([1])"
            ]
          },
          "metadata": {
            "tags": []
          },
          "execution_count": 152
        }
      ]
    },
    {
      "cell_type": "code",
      "metadata": {
        "id": "zFQb-Ul8p7rJ"
      },
      "source": [
        "test_labels"
      ],
      "execution_count": null,
      "outputs": []
    }
  ]
}